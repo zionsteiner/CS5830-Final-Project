{
 "cells": [
  {
   "cell_type": "code",
   "execution_count": 8,
   "metadata": {},
   "outputs": [],
   "source": [
    "import pandas as pd\n",
    "import numpy as np\n",
    "import matplotlib.pyplot as plt\n",
    "\n",
    "from twython import Twython\n",
    "import json\n",
    "import time"
   ]
  },
  {
   "cell_type": "code",
   "execution_count": 16,
   "metadata": {},
   "outputs": [],
   "source": [
    "\n",
    "# Get keys from TWITTER_CREDS_FN or https://developer.twitter.com/en/apps/16087482\n",
    "# NOTE: do not run this cell unless you get the API keys from twitter.com.\n",
    "CONSUMER_KEY = 'e0cR4oCRsfqMQOIgSeZu18xGm'\n",
    "CONSUMER_SECRET_KEY = 'ucPIEBnGCk6YJUmM8yV3FYbx8Fta1kzDzo4woPHZu1RdqmwGNp'\n",
    "ACCESS_TOKEN_SECRET = '9waRhmgfqIUToRbrsqXw2qltAC7oDwgJef3aJV91PToaU'\n",
    "TWITTER_CREDS_FN = '/Users/Che10/Downloads/.twitter-credentials.json'\n",
    "\n",
    "if (CONSUMER_KEY != ''):\n",
    "    twitter = Twython(CONSUMER_KEY, CONSUMER_SECRET_KEY, oauth_version=2)\n",
    "    ACCESS_TOKEN = twitter.obtain_access_token()\n",
    "\n",
    "    # Save creds to json file\n",
    "    creds = {'CONSUMER_KEY':CONSUMER_KEY, 'CONSUMER_SECRET_KEY':CONSUMER_SECRET_KEY,\n",
    "             'ACCESS_TOKEN':ACCESS_TOKEN, 'ACCESS_TOKEN_SECRET':ACCESS_TOKEN_SECRET}\n",
    "    with open(TWITTER_CREDS_FN, 'w') as outfile:  \n",
    "        json.dump(creds, outfile)"
   ]
  },
  {
   "cell_type": "code",
   "execution_count": 17,
   "metadata": {},
   "outputs": [],
   "source": [
    "try:\n",
    "    with open(TWITTER_CREDS_FN) as data_file:\n",
    "        data = json.load(data_file)\n",
    "        CONSUMER_KEY = data['CONSUMER_KEY']\n",
    "        CONSUMER_SECRET_KEY = data['CONSUMER_SECRET_KEY']\n",
    "        ACCESS_TOKEN = data['ACCESS_TOKEN']\n",
    "        ACCESS_TOKEN_SECRET = data['ACCESS_TOKEN_SECRET']\n",
    "#         print('CONSUMER_KEY={}\\nCONSUMER_SECRET_KEY={}\\nACCESS_TOKEN={}\\nACCESS_TOKEN_SECRET={}'.format(\n",
    "#             CONSUMER_KEY, CONSUMER_SECRET_KEY, ACCESS_TOKEN, ACCESS_TOKEN_SECRET))\n",
    "except IOError:\n",
    "    print(\"Could not read file: ~/.twitter-credentials.json. Please Instantiate object with your username and password\")"
   ]
  },
  {
   "cell_type": "code",
   "execution_count": 18,
   "metadata": {},
   "outputs": [],
   "source": [
    "twitter = Twython(CONSUMER_KEY, access_token=ACCESS_TOKEN)\n"
   ]
  },
  {
   "cell_type": "code",
   "execution_count": null,
   "metadata": {},
   "outputs": [],
   "source": []
  },
  {
   "cell_type": "code",
   "execution_count": null,
   "metadata": {},
   "outputs": [],
   "source": []
  },
  {
   "cell_type": "code",
   "execution_count": null,
   "metadata": {},
   "outputs": [],
   "source": []
  },
  {
   "cell_type": "code",
   "execution_count": 90,
   "metadata": {},
   "outputs": [],
   "source": [
    "total_tweets = []\n",
    "texts2=[]\n",
    "MAX_ATTEMPTS = 100\n",
    "\n",
    "COUNT_OF_TWEETS_TO_BE_FETCHED = 10000\n",
    "\n",
    "\n",
    "\n",
    "for i in range(0,MAX_ATTEMPTS):\n",
    "\n",
    "    if(COUNT_OF_TWEETS_TO_BE_FETCHED < len(total_tweets)):\n",
    "        break # we got 500 tweets... !!\n",
    "        \n",
    "    if(0 == i):\n",
    "        results = twitter.search(q='virus', tweet_mode='extended', count=5000,geocode='40.730610,-73.935242,500km')['statuses']\n",
    "    else:\n",
    "        # After the first call we should have max_id from result of previous call. Pass it in query.\n",
    "        results = twitter.search(q='virus', tweet_mode='extended', count=5000,geocode='40.730610,-73.935242,500km')['statuses']\n",
    "\n",
    "    # STEP 2: Save the returned tweets\n",
    "    \n",
    "    for result in results:\n",
    "        if 'retweeted_status' in result:\n",
    "            result['full_text'] = result[\"retweeted_status\"]['full_text']\n",
    "    \n",
    "        texts2 = result['full_text']\n",
    "        total_tweets.append(texts2)\n"
   ]
  },
  {
   "cell_type": "code",
   "execution_count": 1,
   "metadata": {},
   "outputs": [
    {
     "ename": "NameError",
     "evalue": "name 'total_tweets' is not defined",
     "output_type": "error",
     "traceback": [
      "\u001b[1;31m---------------------------------------------------------------------------\u001b[0m",
      "\u001b[1;31mNameError\u001b[0m                                 Traceback (most recent call last)",
      "\u001b[1;32m<ipython-input-1-8599e337944b>\u001b[0m in \u001b[0;36m<module>\u001b[1;34m\u001b[0m\n\u001b[1;32m----> 1\u001b[1;33m \u001b[0mtotal_tweets\u001b[0m\u001b[1;33m[\u001b[0m\u001b[1;36m9999\u001b[0m\u001b[1;33m]\u001b[0m\u001b[1;33m\u001b[0m\u001b[1;33m\u001b[0m\u001b[0m\n\u001b[0m",
      "\u001b[1;31mNameError\u001b[0m: name 'total_tweets' is not defined"
     ]
    }
   ],
   "source": [
    "total_tweets[9999]"
   ]
  },
  {
   "cell_type": "code",
   "execution_count": 100,
   "metadata": {},
   "outputs": [
    {
     "data": {
      "text/html": [
       "<div>\n",
       "<style scoped>\n",
       "    .dataframe tbody tr th:only-of-type {\n",
       "        vertical-align: middle;\n",
       "    }\n",
       "\n",
       "    .dataframe tbody tr th {\n",
       "        vertical-align: top;\n",
       "    }\n",
       "\n",
       "    .dataframe thead th {\n",
       "        text-align: right;\n",
       "    }\n",
       "</style>\n",
       "<table border=\"1\" class=\"dataframe\">\n",
       "  <thead>\n",
       "    <tr style=\"text-align: right;\">\n",
       "      <th></th>\n",
       "      <th>tweet</th>\n",
       "    </tr>\n",
       "  </thead>\n",
       "  <tbody>\n",
       "    <tr>\n",
       "      <td>0</td>\n",
       "      <td>I always treated the Chinese Virus very seriou...</td>\n",
       "    </tr>\n",
       "    <tr>\n",
       "      <td>1</td>\n",
       "      <td>Trump is really rambling, stream of consciousn...</td>\n",
       "    </tr>\n",
       "    <tr>\n",
       "      <td>2</td>\n",
       "      <td>\"he voiced far more..concern about the traject...</td>\n",
       "    </tr>\n",
       "    <tr>\n",
       "      <td>3</td>\n",
       "      <td>Tiger at Bronx Zoo tests positive for coronavi...</td>\n",
       "    </tr>\n",
       "    <tr>\n",
       "      <td>4</td>\n",
       "      <td>@chardalarna @JoeNBC @chardalarna Charlotte, e...</td>\n",
       "    </tr>\n",
       "    <tr>\n",
       "      <td>...</td>\n",
       "      <td>...</td>\n",
       "    </tr>\n",
       "    <tr>\n",
       "      <td>9995</td>\n",
       "      <td>The Career Highlights of Dr. Fauci in 2020:\\n\\...</td>\n",
       "    </tr>\n",
       "    <tr>\n",
       "      <td>9996</td>\n",
       "      <td>People in India gotta chill out. @narendramodi...</td>\n",
       "    </tr>\n",
       "    <tr>\n",
       "      <td>9997</td>\n",
       "      <td>@Rita11186522 @towntro I live on Long Island N...</td>\n",
       "    </tr>\n",
       "    <tr>\n",
       "      <td>9998</td>\n",
       "      <td>Why is it religious fanatics can say they’re i...</td>\n",
       "    </tr>\n",
       "    <tr>\n",
       "      <td>9999</td>\n",
       "      <td>Why is the President wasting his top tier Coro...</td>\n",
       "    </tr>\n",
       "  </tbody>\n",
       "</table>\n",
       "<p>10000 rows × 1 columns</p>\n",
       "</div>"
      ],
      "text/plain": [
       "                                                  tweet\n",
       "0     I always treated the Chinese Virus very seriou...\n",
       "1     Trump is really rambling, stream of consciousn...\n",
       "2     \"he voiced far more..concern about the traject...\n",
       "3     Tiger at Bronx Zoo tests positive for coronavi...\n",
       "4     @chardalarna @JoeNBC @chardalarna Charlotte, e...\n",
       "...                                                 ...\n",
       "9995  The Career Highlights of Dr. Fauci in 2020:\\n\\...\n",
       "9996  People in India gotta chill out. @narendramodi...\n",
       "9997  @Rita11186522 @towntro I live on Long Island N...\n",
       "9998  Why is it religious fanatics can say they’re i...\n",
       "9999  Why is the President wasting his top tier Coro...\n",
       "\n",
       "[10000 rows x 1 columns]"
      ]
     },
     "execution_count": 100,
     "metadata": {},
     "output_type": "execute_result"
    }
   ],
   "source": [
    "df_US=pd.DataFrame(total_tweets,columns=['tweet'])\n",
    "df_US"
   ]
  }
 ],
 "metadata": {
  "kernelspec": {
   "display_name": "Python 3",
   "language": "python",
   "name": "python3"
  },
  "language_info": {
   "codemirror_mode": {
    "name": "ipython",
    "version": 3
   },
   "file_extension": ".py",
   "mimetype": "text/x-python",
   "name": "python",
   "nbconvert_exporter": "python",
   "pygments_lexer": "ipython3",
   "version": "3.7.4"
  }
 },
 "nbformat": 4,
 "nbformat_minor": 2
}
