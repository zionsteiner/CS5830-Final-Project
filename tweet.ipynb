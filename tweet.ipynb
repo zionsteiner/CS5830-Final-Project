{
 "cells": [
  {
   "cell_type": "code",
   "execution_count": 1,
   "metadata": {},
   "outputs": [],
   "source": [
    "import pandas as pd\n",
    "import numpy as np\n",
    "import matplotlib.pyplot as plt\n",
    "\n",
    "from twython import Twython\n",
    "import json\n",
    "import time"
   ]
  },
  {
   "cell_type": "code",
   "execution_count": 2,
   "metadata": {},
   "outputs": [],
   "source": [
    "\n",
    "# Get keys from TWITTER_CREDS_FN or https://developer.twitter.com/en/apps/16087482\n",
    "# NOTE: do not run this cell unless you get the API keys from twitter.com.\n",
    "CONSUMER_KEY = 'e0cR4oCRsfqMQOIgSeZu18xGm'\n",
    "CONSUMER_SECRET_KEY = 'ucPIEBnGCk6YJUmM8yV3FYbx8Fta1kzDzo4woPHZu1RdqmwGNp'\n",
    "ACCESS_TOKEN_SECRET = '9waRhmgfqIUToRbrsqXw2qltAC7oDwgJef3aJV91PToaU'\n",
    "TWITTER_CREDS_FN = '/Users/Che10/Downloads/.twitter-credentials.json'\n",
    "\n",
    "if (CONSUMER_KEY != ''):\n",
    "    twitter = Twython(CONSUMER_KEY, CONSUMER_SECRET_KEY, oauth_version=2)\n",
    "    ACCESS_TOKEN = twitter.obtain_access_token()\n",
    "\n",
    "    # Save creds to json file\n",
    "    creds = {'CONSUMER_KEY':CONSUMER_KEY, 'CONSUMER_SECRET_KEY':CONSUMER_SECRET_KEY,\n",
    "             'ACCESS_TOKEN':ACCESS_TOKEN, 'ACCESS_TOKEN_SECRET':ACCESS_TOKEN_SECRET}\n",
    "    with open(TWITTER_CREDS_FN, 'w') as outfile:  \n",
    "        json.dump(creds, outfile)"
   ]
  },
  {
   "cell_type": "code",
   "execution_count": 3,
   "metadata": {},
   "outputs": [],
   "source": [
    "try:\n",
    "    with open(TWITTER_CREDS_FN) as data_file:\n",
    "        data = json.load(data_file)\n",
    "        CONSUMER_KEY = data['CONSUMER_KEY']\n",
    "        CONSUMER_SECRET_KEY = data['CONSUMER_SECRET_KEY']\n",
    "        ACCESS_TOKEN = data['ACCESS_TOKEN']\n",
    "        ACCESS_TOKEN_SECRET = data['ACCESS_TOKEN_SECRET']\n",
    "#         print('CONSUMER_KEY={}\\nCONSUMER_SECRET_KEY={}\\nACCESS_TOKEN={}\\nACCESS_TOKEN_SECRET={}'.format(\n",
    "#             CONSUMER_KEY, CONSUMER_SECRET_KEY, ACCESS_TOKEN, ACCESS_TOKEN_SECRET))\n",
    "except IOError:\n",
    "    print(\"Could not read file: ~/.twitter-credentials.json. Please Instantiate object with your username and password\")"
   ]
  },
  {
   "cell_type": "code",
   "execution_count": 4,
   "metadata": {},
   "outputs": [],
   "source": [
    "twitter = Twython(CONSUMER_KEY, access_token=ACCESS_TOKEN)\n"
   ]
  },
  {
   "cell_type": "code",
   "execution_count": 11,
   "metadata": {},
   "outputs": [
    {
     "ename": "TwythonRateLimitError",
     "evalue": "Twitter API returned a 429 (Too Many Requests), Rate limit exceeded",
     "output_type": "error",
     "traceback": [
      "\u001b[1;31m---------------------------------------------------------------------------\u001b[0m",
      "\u001b[1;31mTwythonRateLimitError\u001b[0m                     Traceback (most recent call last)",
      "\u001b[1;32m<ipython-input-11-d6458b85f28e>\u001b[0m in \u001b[0;36m<module>\u001b[1;34m\u001b[0m\n\u001b[0;32m     11\u001b[0m \u001b[1;33m\u001b[0m\u001b[0m\n\u001b[0;32m     12\u001b[0m     \u001b[1;32mif\u001b[0m\u001b[1;33m(\u001b[0m\u001b[1;36m0\u001b[0m \u001b[1;33m==\u001b[0m \u001b[0mi\u001b[0m\u001b[1;33m)\u001b[0m\u001b[1;33m:\u001b[0m\u001b[1;33m\u001b[0m\u001b[1;33m\u001b[0m\u001b[0m\n\u001b[1;32m---> 13\u001b[1;33m         \u001b[0mresults\u001b[0m \u001b[1;33m=\u001b[0m \u001b[0mtwitter\u001b[0m\u001b[1;33m.\u001b[0m\u001b[0msearch\u001b[0m\u001b[1;33m(\u001b[0m\u001b[0mq\u001b[0m\u001b[1;33m=\u001b[0m\u001b[1;34m'virus'\u001b[0m\u001b[1;33m,\u001b[0m \u001b[0mtweet_mode\u001b[0m\u001b[1;33m=\u001b[0m\u001b[1;34m'extended'\u001b[0m\u001b[1;33m,\u001b[0m \u001b[0mcount\u001b[0m\u001b[1;33m=\u001b[0m\u001b[1;36m5000\u001b[0m\u001b[1;33m,\u001b[0m\u001b[0mgeocode\u001b[0m\u001b[1;33m=\u001b[0m\u001b[1;34m'40.730610,-73.935242,500km'\u001b[0m\u001b[1;33m)\u001b[0m\u001b[1;33m[\u001b[0m\u001b[1;34m'statuses'\u001b[0m\u001b[1;33m]\u001b[0m\u001b[1;33m\u001b[0m\u001b[1;33m\u001b[0m\u001b[0m\n\u001b[0m\u001b[0;32m     14\u001b[0m     \u001b[1;32melse\u001b[0m\u001b[1;33m:\u001b[0m\u001b[1;33m\u001b[0m\u001b[1;33m\u001b[0m\u001b[0m\n\u001b[0;32m     15\u001b[0m         \u001b[1;31m# After the first call we should have max_id from result of previous call. Pass it in query.\u001b[0m\u001b[1;33m\u001b[0m\u001b[1;33m\u001b[0m\u001b[1;33m\u001b[0m\u001b[0m\n",
      "\u001b[1;32m~\\Anaconda3\\lib\\site-packages\\twython\\endpoints.py\u001b[0m in \u001b[0;36msearch\u001b[1;34m(self, **params)\u001b[0m\n\u001b[0;32m    291\u001b[0m \u001b[1;33m\u001b[0m\u001b[0m\n\u001b[0;32m    292\u001b[0m         \"\"\"\n\u001b[1;32m--> 293\u001b[1;33m         \u001b[1;32mreturn\u001b[0m \u001b[0mself\u001b[0m\u001b[1;33m.\u001b[0m\u001b[0mget\u001b[0m\u001b[1;33m(\u001b[0m\u001b[1;34m'search/tweets'\u001b[0m\u001b[1;33m,\u001b[0m \u001b[0mparams\u001b[0m\u001b[1;33m=\u001b[0m\u001b[0mparams\u001b[0m\u001b[1;33m)\u001b[0m\u001b[1;33m\u001b[0m\u001b[1;33m\u001b[0m\u001b[0m\n\u001b[0m\u001b[0;32m    294\u001b[0m     \u001b[0msearch\u001b[0m\u001b[1;33m.\u001b[0m\u001b[0miter_mode\u001b[0m \u001b[1;33m=\u001b[0m \u001b[1;34m'id'\u001b[0m\u001b[1;33m\u001b[0m\u001b[1;33m\u001b[0m\u001b[0m\n\u001b[0;32m    295\u001b[0m     \u001b[0msearch\u001b[0m\u001b[1;33m.\u001b[0m\u001b[0miter_key\u001b[0m \u001b[1;33m=\u001b[0m \u001b[1;34m'statuses'\u001b[0m\u001b[1;33m\u001b[0m\u001b[1;33m\u001b[0m\u001b[0m\n",
      "\u001b[1;32m~\\Anaconda3\\lib\\site-packages\\twython\\api.py\u001b[0m in \u001b[0;36mget\u001b[1;34m(self, endpoint, params, version)\u001b[0m\n\u001b[0;32m    276\u001b[0m     \u001b[1;32mdef\u001b[0m \u001b[0mget\u001b[0m\u001b[1;33m(\u001b[0m\u001b[0mself\u001b[0m\u001b[1;33m,\u001b[0m \u001b[0mendpoint\u001b[0m\u001b[1;33m,\u001b[0m \u001b[0mparams\u001b[0m\u001b[1;33m=\u001b[0m\u001b[1;32mNone\u001b[0m\u001b[1;33m,\u001b[0m \u001b[0mversion\u001b[0m\u001b[1;33m=\u001b[0m\u001b[1;34m'1.1'\u001b[0m\u001b[1;33m)\u001b[0m\u001b[1;33m:\u001b[0m\u001b[1;33m\u001b[0m\u001b[1;33m\u001b[0m\u001b[0m\n\u001b[0;32m    277\u001b[0m         \u001b[1;34m\"\"\"Shortcut for GET requests via :class:`request`\"\"\"\u001b[0m\u001b[1;33m\u001b[0m\u001b[1;33m\u001b[0m\u001b[0m\n\u001b[1;32m--> 278\u001b[1;33m         \u001b[1;32mreturn\u001b[0m \u001b[0mself\u001b[0m\u001b[1;33m.\u001b[0m\u001b[0mrequest\u001b[0m\u001b[1;33m(\u001b[0m\u001b[0mendpoint\u001b[0m\u001b[1;33m,\u001b[0m \u001b[0mparams\u001b[0m\u001b[1;33m=\u001b[0m\u001b[0mparams\u001b[0m\u001b[1;33m,\u001b[0m \u001b[0mversion\u001b[0m\u001b[1;33m=\u001b[0m\u001b[0mversion\u001b[0m\u001b[1;33m)\u001b[0m\u001b[1;33m\u001b[0m\u001b[1;33m\u001b[0m\u001b[0m\n\u001b[0m\u001b[0;32m    279\u001b[0m \u001b[1;33m\u001b[0m\u001b[0m\n\u001b[0;32m    280\u001b[0m     \u001b[1;32mdef\u001b[0m \u001b[0mpost\u001b[0m\u001b[1;33m(\u001b[0m\u001b[0mself\u001b[0m\u001b[1;33m,\u001b[0m \u001b[0mendpoint\u001b[0m\u001b[1;33m,\u001b[0m \u001b[0mparams\u001b[0m\u001b[1;33m=\u001b[0m\u001b[1;32mNone\u001b[0m\u001b[1;33m,\u001b[0m \u001b[0mversion\u001b[0m\u001b[1;33m=\u001b[0m\u001b[1;34m'1.1'\u001b[0m\u001b[1;33m,\u001b[0m \u001b[0mjson_encoded\u001b[0m\u001b[1;33m=\u001b[0m\u001b[1;32mFalse\u001b[0m\u001b[1;33m)\u001b[0m\u001b[1;33m:\u001b[0m\u001b[1;33m\u001b[0m\u001b[1;33m\u001b[0m\u001b[0m\n",
      "\u001b[1;32m~\\Anaconda3\\lib\\site-packages\\twython\\api.py\u001b[0m in \u001b[0;36mrequest\u001b[1;34m(self, endpoint, method, params, version, json_encoded)\u001b[0m\n\u001b[0;32m    270\u001b[0m \u001b[1;33m\u001b[0m\u001b[0m\n\u001b[0;32m    271\u001b[0m         content = self._request(url, method=method, params=params,\n\u001b[1;32m--> 272\u001b[1;33m                                 api_call=url, json_encoded=json_encoded)\n\u001b[0m\u001b[0;32m    273\u001b[0m \u001b[1;33m\u001b[0m\u001b[0m\n\u001b[0;32m    274\u001b[0m         \u001b[1;32mreturn\u001b[0m \u001b[0mcontent\u001b[0m\u001b[1;33m\u001b[0m\u001b[1;33m\u001b[0m\u001b[0m\n",
      "\u001b[1;32m~\\Anaconda3\\lib\\site-packages\\twython\\api.py\u001b[0m in \u001b[0;36m_request\u001b[1;34m(self, url, method, params, api_call, json_encoded)\u001b[0m\n\u001b[0;32m    202\u001b[0m                 \u001b[0merror_message\u001b[0m\u001b[1;33m,\u001b[0m\u001b[1;33m\u001b[0m\u001b[1;33m\u001b[0m\u001b[0m\n\u001b[0;32m    203\u001b[0m                 \u001b[0merror_code\u001b[0m\u001b[1;33m=\u001b[0m\u001b[0mresponse\u001b[0m\u001b[1;33m.\u001b[0m\u001b[0mstatus_code\u001b[0m\u001b[1;33m,\u001b[0m\u001b[1;33m\u001b[0m\u001b[1;33m\u001b[0m\u001b[0m\n\u001b[1;32m--> 204\u001b[1;33m                 retry_after=response.headers.get('X-Rate-Limit-Reset'))\n\u001b[0m\u001b[0;32m    205\u001b[0m         \u001b[0mcontent\u001b[0m \u001b[1;33m=\u001b[0m \u001b[1;34m''\u001b[0m\u001b[1;33m\u001b[0m\u001b[1;33m\u001b[0m\u001b[0m\n\u001b[0;32m    206\u001b[0m         \u001b[1;32mtry\u001b[0m\u001b[1;33m:\u001b[0m\u001b[1;33m\u001b[0m\u001b[1;33m\u001b[0m\u001b[0m\n",
      "\u001b[1;31mTwythonRateLimitError\u001b[0m: Twitter API returned a 429 (Too Many Requests), Rate limit exceeded"
     ]
    }
   ],
   "source": [
    "total_tweets = []\n",
    "texts2=[]\n",
    "MAX_ATTEMPTS = 1000\n",
    "\n",
    "COUNT_OF_TWEETS_TO_BE_FETCHED = 450000\n",
    "\n",
    "for i in range(0,MAX_ATTEMPTS):\n",
    "\n",
    "    if(COUNT_OF_TWEETS_TO_BE_FETCHED < len(total_tweets)):\n",
    "        break # we got 500 tweets... !!\n",
    "        \n",
    "    if(0 == i):\n",
    "        results = twitter.search(q='virus', tweet_mode='extended', count=5000,geocode='40.730610,-73.935242,500km')['statuses']\n",
    "    else:\n",
    "        # After the first call we should have max_id from result of previous call. Pass it in query.\n",
    "        results = twitter.search(q='virus', tweet_mode='extended', count=5000,geocode='40.730610,-73.935242,500km')['statuses']\n",
    "\n",
    "    # STEP 2: Save the returned tweets\n",
    "    \n",
    "    for result in results:\n",
    "        if 'retweeted_status' in result:\n",
    "            result['full_text'] = result[\"retweeted_status\"]['full_text']\n",
    "    \n",
    "        texts2 = result['full_text']\n",
    "        total_tweets.append(texts2)\n"
   ]
  },
  {
   "cell_type": "code",
   "execution_count": 7,
   "metadata": {},
   "outputs": [
    {
     "data": {
      "text/plain": [
       "45000"
      ]
     },
     "execution_count": 7,
     "metadata": {},
     "output_type": "execute_result"
    }
   ],
   "source": [
    "len(total_tweets)"
   ]
  },
  {
   "cell_type": "code",
   "execution_count": 8,
   "metadata": {},
   "outputs": [
    {
     "data": {
      "text/plain": [
       "\"There's a surge in demand for telehealth and Zocdoc is building up its virtual appointments 👩🏾\\u200d⚕️️👨🏽\\u200d⚕️ https://t.co/YspI2MtYmc https://t.co/LjLHkurF2g\""
      ]
     },
     "execution_count": 8,
     "metadata": {},
     "output_type": "execute_result"
    }
   ],
   "source": [
    "total_tweets[44999]"
   ]
  },
  {
   "cell_type": "code",
   "execution_count": 10,
   "metadata": {},
   "outputs": [
    {
     "data": {
      "text/plain": [
       "'@Alyssa_Milano Hunter Biden’s firm secured in Ukraine and China while his father, former VP Joe Biden\\nJoe Biden called Trump’s China travel ban “xenophobic.”Now he is saying Trump should have done it sooner. Wake up! virus released to hurt Trump after impeachment failed. Libs bio warfare'"
      ]
     },
     "execution_count": 10,
     "metadata": {},
     "output_type": "execute_result"
    }
   ],
   "source": [
    "total_tweets[0]"
   ]
  },
  {
   "cell_type": "code",
   "execution_count": 9,
   "metadata": {},
   "outputs": [
    {
     "data": {
      "text/html": [
       "<div>\n",
       "<style scoped>\n",
       "    .dataframe tbody tr th:only-of-type {\n",
       "        vertical-align: middle;\n",
       "    }\n",
       "\n",
       "    .dataframe tbody tr th {\n",
       "        vertical-align: top;\n",
       "    }\n",
       "\n",
       "    .dataframe thead th {\n",
       "        text-align: right;\n",
       "    }\n",
       "</style>\n",
       "<table border=\"1\" class=\"dataframe\">\n",
       "  <thead>\n",
       "    <tr style=\"text-align: right;\">\n",
       "      <th></th>\n",
       "      <th>tweet</th>\n",
       "    </tr>\n",
       "  </thead>\n",
       "  <tbody>\n",
       "    <tr>\n",
       "      <td>0</td>\n",
       "      <td>@Alyssa_Milano Hunter Biden’s firm secured in ...</td>\n",
       "    </tr>\n",
       "    <tr>\n",
       "      <td>1</td>\n",
       "      <td>Why is @realDonaldTrump being attacked for Nav...</td>\n",
       "    </tr>\n",
       "    <tr>\n",
       "      <td>2</td>\n",
       "      <td>@nliberacki @joepike @BorisJohnson You know......</td>\n",
       "    </tr>\n",
       "    <tr>\n",
       "      <td>3</td>\n",
       "      <td>My husband and I are recovering from COVID-19....</td>\n",
       "    </tr>\n",
       "    <tr>\n",
       "      <td>4</td>\n",
       "      <td>@jvIiette Okay fair, that's what I get for not...</td>\n",
       "    </tr>\n",
       "    <tr>\n",
       "      <td>...</td>\n",
       "      <td>...</td>\n",
       "    </tr>\n",
       "    <tr>\n",
       "      <td>44995</td>\n",
       "      <td>If Jennie dropped a hint about new music that ...</td>\n",
       "    </tr>\n",
       "    <tr>\n",
       "      <td>44996</td>\n",
       "      <td>A major model relied upon by @WhiteHouse #Medi...</td>\n",
       "    </tr>\n",
       "    <tr>\n",
       "      <td>44997</td>\n",
       "      <td>.@realDonaldTrump you cannot brand thoughts in...</td>\n",
       "    </tr>\n",
       "    <tr>\n",
       "      <td>44998</td>\n",
       "      <td>Another @LACProbation officer at a Sylmar dete...</td>\n",
       "    </tr>\n",
       "    <tr>\n",
       "      <td>44999</td>\n",
       "      <td>There's a surge in demand for telehealth and Z...</td>\n",
       "    </tr>\n",
       "  </tbody>\n",
       "</table>\n",
       "<p>45000 rows × 1 columns</p>\n",
       "</div>"
      ],
      "text/plain": [
       "                                                   tweet\n",
       "0      @Alyssa_Milano Hunter Biden’s firm secured in ...\n",
       "1      Why is @realDonaldTrump being attacked for Nav...\n",
       "2      @nliberacki @joepike @BorisJohnson You know......\n",
       "3      My husband and I are recovering from COVID-19....\n",
       "4      @jvIiette Okay fair, that's what I get for not...\n",
       "...                                                  ...\n",
       "44995  If Jennie dropped a hint about new music that ...\n",
       "44996  A major model relied upon by @WhiteHouse #Medi...\n",
       "44997  .@realDonaldTrump you cannot brand thoughts in...\n",
       "44998  Another @LACProbation officer at a Sylmar dete...\n",
       "44999  There's a surge in demand for telehealth and Z...\n",
       "\n",
       "[45000 rows x 1 columns]"
      ]
     },
     "execution_count": 9,
     "metadata": {},
     "output_type": "execute_result"
    }
   ],
   "source": [
    "df_US=pd.DataFrame(total_tweets,columns=['tweet'])\n",
    "df_US"
   ]
  },
  {
   "cell_type": "code",
   "execution_count": 12,
   "metadata": {},
   "outputs": [
    {
     "name": "stderr",
     "output_type": "stream",
     "text": [
      "[nltk_data] Downloading package stopwords to\n",
      "[nltk_data]     C:\\Users\\Che10\\AppData\\Roaming\\nltk_data...\n",
      "[nltk_data]   Package stopwords is already up-to-date!\n"
     ]
    },
    {
     "data": {
      "text/html": [
       "<div>\n",
       "<style scoped>\n",
       "    .dataframe tbody tr th:only-of-type {\n",
       "        vertical-align: middle;\n",
       "    }\n",
       "\n",
       "    .dataframe tbody tr th {\n",
       "        vertical-align: top;\n",
       "    }\n",
       "\n",
       "    .dataframe thead th {\n",
       "        text-align: right;\n",
       "    }\n",
       "</style>\n",
       "<table border=\"1\" class=\"dataframe\">\n",
       "  <thead>\n",
       "    <tr style=\"text-align: right;\">\n",
       "      <th></th>\n",
       "      <th>tweet</th>\n",
       "      <th>tidy_tweet</th>\n",
       "    </tr>\n",
       "  </thead>\n",
       "  <tbody>\n",
       "    <tr>\n",
       "      <td>7054</td>\n",
       "      <td>@jvIiette Okay fair, that's I get taking scien...</td>\n",
       "      <td>jvIiette Okay fair  that s I get taking scien...</td>\n",
       "    </tr>\n",
       "    <tr>\n",
       "      <td>29615</td>\n",
       "      <td>@RolandDunham @alyciaj09 @stopsolitaryct @kata...</td>\n",
       "      <td>RolandDunham  alyciaj    stopsolitaryct  kata...</td>\n",
       "    </tr>\n",
       "    <tr>\n",
       "      <td>22845</td>\n",
       "      <td>My husband I recovering COVID-19. We’re gettin...</td>\n",
       "      <td>My husband I recovering COVID     We re gettin...</td>\n",
       "    </tr>\n",
       "    <tr>\n",
       "      <td>2253</td>\n",
       "      <td>So sayin thing like virus something</td>\n",
       "      <td>So sayin thing like virus something</td>\n",
       "    </tr>\n",
       "    <tr>\n",
       "      <td>8751</td>\n",
       "      <td>What’s take-away us? It’s beating virus means ...</td>\n",
       "      <td>What s take away us  It s beating virus means ...</td>\n",
       "    </tr>\n",
       "    <tr>\n",
       "      <td>6787</td>\n",
       "      <td>@pulte Thank helping need @pulte. Wish I could...</td>\n",
       "      <td>pulte Thank helping need  pulte  Wish I could...</td>\n",
       "    </tr>\n",
       "    <tr>\n",
       "      <td>17152</td>\n",
       "      <td>Why @realDonaldTrump attacked Navy firing Capt...</td>\n",
       "      <td>Why  realDonaldTrump attacked Navy firing Capt...</td>\n",
       "    </tr>\n",
       "    <tr>\n",
       "      <td>40121</td>\n",
       "      <td>Detroit News objection Whitmer ignoring crisis...</td>\n",
       "      <td>Detroit News objection Whitmer ignoring crisis...</td>\n",
       "    </tr>\n",
       "    <tr>\n",
       "      <td>25683</td>\n",
       "      <td>NEW DEFENSIVE MEASURE AGAINST THE VIRUS -many ...</td>\n",
       "      <td>NEW DEFENSIVE MEASURE AGAINST THE VIRUS  many ...</td>\n",
       "    </tr>\n",
       "    <tr>\n",
       "      <td>9779</td>\n",
       "      <td>Just tested negative virus. Thank goodness. No...</td>\n",
       "      <td>Just tested negative virus  Thank goodness  No...</td>\n",
       "    </tr>\n",
       "  </tbody>\n",
       "</table>\n",
       "</div>"
      ],
      "text/plain": [
       "                                                   tweet  \\\n",
       "7054   @jvIiette Okay fair, that's I get taking scien...   \n",
       "29615  @RolandDunham @alyciaj09 @stopsolitaryct @kata...   \n",
       "22845  My husband I recovering COVID-19. We’re gettin...   \n",
       "2253                 So sayin thing like virus something   \n",
       "8751   What’s take-away us? It’s beating virus means ...   \n",
       "6787   @pulte Thank helping need @pulte. Wish I could...   \n",
       "17152  Why @realDonaldTrump attacked Navy firing Capt...   \n",
       "40121  Detroit News objection Whitmer ignoring crisis...   \n",
       "25683  NEW DEFENSIVE MEASURE AGAINST THE VIRUS -many ...   \n",
       "9779   Just tested negative virus. Thank goodness. No...   \n",
       "\n",
       "                                              tidy_tweet  \n",
       "7054    jvIiette Okay fair  that s I get taking scien...  \n",
       "29615   RolandDunham  alyciaj    stopsolitaryct  kata...  \n",
       "22845  My husband I recovering COVID     We re gettin...  \n",
       "2253                 So sayin thing like virus something  \n",
       "8751   What s take away us  It s beating virus means ...  \n",
       "6787    pulte Thank helping need  pulte  Wish I could...  \n",
       "17152  Why  realDonaldTrump attacked Navy firing Capt...  \n",
       "40121  Detroit News objection Whitmer ignoring crisis...  \n",
       "25683  NEW DEFENSIVE MEASURE AGAINST THE VIRUS  many ...  \n",
       "9779   Just tested negative virus  Thank goodness  No...  "
      ]
     },
     "execution_count": 12,
     "metadata": {},
     "output_type": "execute_result"
    }
   ],
   "source": [
    "from nltk.corpus import stopwords\n",
    "import nltk\n",
    "nltk.download('stopwords')\n",
    "\n",
    "stop_words1 = set(stopwords.words('english')) | set(['would', '#', '@'])\n",
    "\n",
    "# df_title = pd.read_csv('data/titles_65k.csv', index_col=0)\n",
    "\n",
    "df_US['tweet'] = df_US['tweet'].apply(lambda title: ' '.join([word for word in title.split() if word not in stop_words1]))\n",
    "# df_title.to_csv('data/titles.csv')\n",
    "df_US['tidy_tweet'] = df_US['tweet'].str.replace(\"[^a-zA-Z#]\", \" \")\n",
    "df_US.sample(10)"
   ]
  },
  {
   "cell_type": "code",
   "execution_count": 14,
   "metadata": {},
   "outputs": [
    {
     "name": "stderr",
     "output_type": "stream",
     "text": [
      "[nltk_data] Downloading package stopwords to\n",
      "[nltk_data]     C:\\Users\\Che10\\AppData\\Roaming\\nltk_data...\n",
      "[nltk_data]   Package stopwords is already up-to-date!\n"
     ]
    },
    {
     "data": {
      "text/plain": [
       "<matplotlib.axes._subplots.AxesSubplot at 0x20ace5ff488>"
      ]
     },
     "execution_count": 14,
     "metadata": {},
     "output_type": "execute_result"
    },
    {
     "data": {
      "image/png": "[encoded data removed]",
      "text/plain": [
       "<Figure size 1440x576 with 1 Axes>"
      ]
     },
     "metadata": {
      "needs_background": "light"
     },
     "output_type": "display_data"
    }
   ],
   "source": [
    "import seaborn as sns\n",
    "\n",
    "from collections import defaultdict\n",
    "from nltk.corpus import stopwords\n",
    "import nltk\n",
    "nltk.download('stopwords')\n",
    "\n",
    "stop_words = set(stopwords.words('english')) | set(['Corona','RT','virus' ,'This','says','Listen','corona', 'https', 'co', 'As','The','I','r','amp'])\n",
    "\n",
    "corpus = ''\n",
    "for title in df_US['tidy_tweet']:\n",
    "      corpus += title\n",
    "\n",
    "word_freq_dict = defaultdict(int)\n",
    "for word in [word for word in corpus.split() if word not in stop_words]:\n",
    "        word_freq_dict[word] += 1\n",
    "\n",
    "x = []\n",
    "y = []\n",
    "   \n",
    "for word, count in sorted(word_freq_dict.items(), key=lambda x: x[1], reverse=True):\n",
    "        x.append(word)\n",
    "        y.append(count)        \n",
    "plt.figure(figsize=((20,8)))\n",
    "sns.barplot(x=x[:15], y=y[:15])\n",
    "\n",
    "    \n"
   ]
  },
  {
   "cell_type": "code",
   "execution_count": null,
   "metadata": {},
   "outputs": [],
   "source": []
  }
 ],
 "metadata": {
  "kernelspec": {
   "display_name": "Python 3",
   "language": "python",
   "name": "python3"
  },
  "language_info": {
   "codemirror_mode": {
    "name": "ipython",
    "version": 3
   },
   "file_extension": ".py",
   "mimetype": "text/x-python",
   "name": "python",
   "nbconvert_exporter": "python",
   "pygments_lexer": "ipython3",
   "version": "3.7.4"
  }
 },
 "nbformat": 4,
 "nbformat_minor": 2
}
