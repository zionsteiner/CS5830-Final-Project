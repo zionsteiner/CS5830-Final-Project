{
 "cells": [
  {
   "cell_type": "markdown",
   "metadata": {},
   "source": [
    "# SEC Data Collection\n",
    "### Steps\n",
    "1. Get urls for filings\n",
    "2. Get company info and filter by marketcap\n",
    "4. Download filings\n",
    "5. Clean filings\n",
    "6. Diff filings"
   ]
  },
  {
   "cell_type": "code",
   "execution_count": null,
   "metadata": {},
   "outputs": [],
   "source": [
    "# 1. Get urls for 2019 Q3 filings and more recent\n",
    "\n",
    "import edgar\n",
    "import os\n",
    "\n",
    "data_dir = os.path.join(os.getcwd(), 'data/sec')\n",
    "# os.mkdir(data_dir)\n",
    "indices_dir = os.path.join(data_dir, 'indices')\n",
    "# os.mkdir(indices_dir)\n",
    "# edgar.download_index(indices_dir, 2019, False)"
   ]
  },
  {
   "cell_type": "code",
   "execution_count": null,
   "metadata": {},
   "outputs": [],
   "source": [
    "\"\"\"\n",
    "2. Get company info and filter by marketcap\n",
    "    a. Get list of ticker symbols\n",
    "    b. Join symbols with filings dataset on cik\n",
    "    c. Get marketcap for each\n",
    "    d. Get sector for each\n",
    "    e. Filter by marketcap\n",
    "\"\"\" \n",
    "# Reference code: https://github.com/PlatorSolutions/quarterly-earnings-machine-learning-algo/blob/master/download_raw_html.py\n",
    "import pandas as pd\n",
    "import os\n",
    "\n",
    "filings_dir = os.path.join(data_dir, 'filings')\n",
    "# os.mkdir(filings_dir)\n",
    "\n",
    "df = pd.DataFrame()\n",
    "for tsv in os.listdir(indices_dir):\n",
    "    if '.ipynb_checkpoints' in tsv:\n",
    "        continue\n",
    "    path = os.path.join(indices_dir, tsv)\n",
    "    df_ext = pd.read_csv(path, delimiter='|', names=['cik', 'name', 'type', 'date', 'text_uri', 'index_url'])\n",
    "    df = df.append(df_ext)\n",
    "    \n",
    "df_10Q = df[df['type'] == '10-Q'].reset_index()\n",
    "df_10Q['date'] = pd.to_datetime(df_10Q['date'], format='%Y-%m-%d')"
   ]
  },
  {
   "cell_type": "code",
   "execution_count": null,
   "metadata": {},
   "outputs": [],
   "source": [
    "import requests\n",
    "import numpy as np\n",
    "\n",
    "def cik_to_ticker(cik):\n",
    "    endpoint = f'https://mapping-api.herokuapp.com/cik/{cik}'\n",
    "    res = requests.get(endpoint)\n",
    "    if len(res.json()) < 1:\n",
    "        return np.nan\n",
    "    return res.json()[0]['ticker']"
   ]
  },
  {
   "cell_type": "code",
   "execution_count": null,
   "metadata": {},
   "outputs": [],
   "source": [
    "def ticker_to_company_info(ticker):\n",
    "    key_id = 'AKQLE29QN0JRVM0Y786Y'\n",
    "    endpoint = f'https://api.polygon.io/v1/meta/symbols/{ticker}/company?apiKey={key_id}'\n",
    "    res = requests.get(endpoint)\n",
    "    if res.status_code == 200 and 'json' in res.headers['Content-Type']:\n",
    "        return res.json()\n",
    "    else:\n",
    "        return np.nan"
   ]
  },
  {
   "cell_type": "code",
   "execution_count": null,
   "metadata": {},
   "outputs": [],
   "source": [
    "df_10Q['ticker'] = df_10Q['cik'].apply(lambda cik: cik_to_ticker(cik))"
   ]
  },
  {
   "cell_type": "code",
   "execution_count": null,
   "metadata": {},
   "outputs": [],
   "source": [
    "import time\n",
    "\n",
    "df_10Q = df_10Q.dropna()\n",
    "company_info_list = df_10Q['ticker'].apply(lambda ticker: ticker_to_company_info(ticker))"
   ]
  },
  {
   "cell_type": "code",
   "execution_count": null,
   "metadata": {},
   "outputs": [],
   "source": [
    "bool_index = company_info_list.notna()\n",
    "company_info_list = company_info_list.loc[bool_index]\n",
    "df_10Q = df_10Q.loc[bool_index].reset_index()"
   ]
  },
  {
   "cell_type": "code",
   "execution_count": null,
   "metadata": {},
   "outputs": [],
   "source": [
    "df_10Q['marketcap'] = company_info_list.apply(lambda info: info['marketcap'])\n",
    "df_10Q['sector'] = company_info_list.apply(lambda info: info['sector'])\n",
    "df_10Q = df_10Q.dropna()"
   ]
  },
  {
   "cell_type": "code",
   "execution_count": null,
   "metadata": {},
   "outputs": [],
   "source": [
    "df_10Q['marketcap'].describe()"
   ]
  },
  {
   "cell_type": "code",
   "execution_count": null,
   "metadata": {},
   "outputs": [],
   "source": [
    "df_10Q = df_10Q.loc[df_10Q['marketcap'] >= 1e9]"
   ]
  },
  {
   "cell_type": "code",
   "execution_count": null,
   "metadata": {},
   "outputs": [],
   "source": [
    "df_10Q = df_10Q.reset_index(drop=True).drop(['level_0', 'index'], axis=1)"
   ]
  },
  {
   "cell_type": "code",
   "execution_count": null,
   "metadata": {},
   "outputs": [],
   "source": [
    "# 3. Download filings\n",
    "import requests\n",
    "from bs4 import BeautifulSoup\n",
    "\n",
    "filing_dir = os.path.join(data_dir, 'raw_filings')\n",
    "# os.mkdir(filing_dir)\n",
    "\n",
    "sec_url = 'https://www.sec.gov/Archives'\n",
    "min_change = 1\n",
    "curr_change = 0\n",
    "path_list = []\n",
    "for i, filing in df_10Q.iterrows():\n",
    "    if i > 0:\n",
    "        curr_val = (i / len(df_10Q)) * 100\n",
    "        curr_change += curr_val - (((i - 1) / len(df_10Q)) * 100)\n",
    "        if curr_change >= min_change:\n",
    "            print(f'{curr_val:.2f}% downloaded')\n",
    "            curr_change = 0\n",
    "    \n",
    "    # Get page\n",
    "    path = os.path.join(sec_url, filing['index_url'])\n",
    "    res = requests.get(path)\n",
    "    soup = BeautifulSoup(res.content, 'lxml')\n",
    "    \n",
    "    # Find download href\n",
    "    files_table = soup.find('table', {'class': 'tableFile', 'summary': 'Document Format Files'})\n",
    "    anchor_element = None\n",
    "    for row in files_table.find_all('tr'):\n",
    "        e = row.find_all('td')\n",
    "        if len(e) >= 4 and e[3].text == filing['type']:\n",
    "            anchor_element = e[2].find('a', href=True)\n",
    "            break\n",
    "    \n",
    "    anchor = anchor_element['href']\n",
    "    name = anchor_element.text\n",
    "    acceptance_date = soup.find('div', attrs={'class': 'infoHead'}, text='Accepted').findNext('div', {'class': 'info'}).text\n",
    "\n",
    "    if 'ix?' in anchor:\n",
    "        anchor = '/' + '/'.join(anchor.split('/')[2:])\n",
    "    \n",
    "    # Download\n",
    "    sec_base = 'https://www.sec.gov'\n",
    "    download_res = requests.get(sec_base + anchor)\n",
    "    \n",
    "    # Save\n",
    "    file_name = '_'.join([filing['name'].replace(' ', '').replace('/', ''), filing['type'], filing['date'].strftime('%Y-%m')]) + '.htm'\n",
    "    file_path = os.path.join(filing_dir, file_name)\n",
    "    with open(file_path, 'w') as file:\n",
    "        file.write(download_res.text)\n",
    "    \n",
    "    path_list.append(file_path)"
   ]
  },
  {
   "cell_type": "code",
   "execution_count": null,
   "metadata": {},
   "outputs": [],
   "source": [
    "df_10Q['path'] = path_list"
   ]
  },
  {
   "cell_type": "code",
   "execution_count": null,
   "metadata": {},
   "outputs": [],
   "source": [
    "# 5. Clean filings\n",
    "import html\n",
    "import multiprocessing as mp\n",
    "import re\n",
    "from functools import partial\n",
    "\n",
    "def removeInnerLinks(soup):\n",
    "    [i.extract() for i in soup.find_all('a', href=True) if len(i['href']) > 0 and i['href'][0] == '#']\n",
    "    return soup\n",
    "\n",
    "def remove_xbrli(soup):\n",
    "    [x.extract() for x in soup.find_all(re.compile(\"^xbrli:\"))]\n",
    "    return soup\n",
    "\n",
    "def removeNumericalTables(soup):\n",
    "\n",
    "    def GetDigitPercentage(tablestring):\n",
    "        if len(tablestring) > 0.0:\n",
    "            numbers = sum([char.isdigit() for char in tablestring])\n",
    "            length = len(tablestring)\n",
    "            return numbers / length\n",
    "        else:\n",
    "            return 1\n",
    "\n",
    "    def containsBgColor(table):\n",
    "        for row in table.find_all('tr'):\n",
    "            colored = 'background-color' in str(row) or 'bgcolor' in str(row)\n",
    "            if colored:\n",
    "                return True\n",
    "        return False\n",
    "\n",
    "    [x.extract() for x in soup.find_all('table') if containsBgColor(x)]\n",
    "\n",
    "    [x.extract() for x in soup.find_all('table') if GetDigitPercentage(x.get_text()) > 0.15]\n",
    "\n",
    "    return soup\n",
    "\n",
    "def prep_text(text):\n",
    "    soup = BeautifulSoup(html.unescape(re.sub(r'\\s+', ' ', text)), \"lxml\")\n",
    "\n",
    "    soup = remove_xbrli(soup)\n",
    "\n",
    "    soup = removeInnerLinks(soup)\n",
    "\n",
    "    soup = removeNumericalTables(soup)\n",
    "\n",
    "    [x.unwrap() for x in soup.find_all(['span', 'font', 'b', 'i', 'u', 'strong'])]\n",
    "\n",
    "    soup.smooth()\n",
    "\n",
    "    text = soup.get_text(separator=\"\\n\", strip=True)\n",
    "\n",
    "    stop_words = set(['HUNDRED', 'THOUSAND', 'MILLION', 'BILLION', 'TRILLION', 'DATE', 'ANNUAL', 'ANNUALLY', 'ANNUM', 'YEAR', 'YEARLY', 'QUARTER', 'QUARTERLY', 'QTR', 'MONTH', 'MONTHLY', 'WEEK', 'WEEKLY', 'DAY', 'DAILY', 'JANUARY', 'FEBRUARY', 'MARCH', 'APRIL', 'MAY', 'JUNE', 'JULY', 'AUGUST', 'SEPTEMBER', 'OCTOBER', 'NOVEMBER', 'DECEMBER', 'JAN', 'FEB', 'MAR', 'APR', 'MAY', 'JUN', 'JUL', 'AUG', 'SEP', 'SEPT', 'OCT', 'NOV', 'DEC', 'MONDAY', 'TUESDAY', 'WEDNESDAY', 'THURSDAY', 'FRIDAY', 'SATURDAY', 'SUNDAY', 'ONE', 'TWO', 'THREE', 'FOUR', 'FIVE', 'SIX', 'SEVEN', 'EIGHT', 'NINE', 'TEN', 'ELEVEN', 'TWELVE', 'THIRTEEN', 'FOURTEEN', 'FIFTEEN', 'SIXTEEN', 'SEVENTEEN', 'EIGHTEEN', 'NINETEEN', 'TWENTY', 'THIRTY', 'FORTY', 'FIFTY', 'SIXTY', 'SEVENTY', 'EIGHTY', 'NINETY', 'FIRST', 'SECOND', 'THIRD', 'FOURTH', 'FIFTH', 'SIXTH', 'SEVENTH', 'EIGHTH', 'NINTH', 'TENTH'])\n",
    "    pattern = re.compile(r'\\b(' + r'|'.join(stop_words) + r')\\b\\s*', re.IGNORECASE)\n",
    "    text = pattern.sub('', text)\n",
    "\n",
    "    pattern = re.compile('\\s[^a-zA-Z\\s]+?(?=(\\.*\\s))')\n",
    "    text = pattern.sub('', text)\n",
    "\n",
    "    text = '\\n'.join(\n",
    "        filter(lambda line: len(line) > 0 and (sum(i.isalpha() for i in line) / len(line) > .5), text.splitlines()))\n",
    "\n",
    "    return text\n",
    "\n",
    "\n",
    "def prep_file(path):\n",
    "    with open(path) as f:\n",
    "        text = prep_text(f.read())\n",
    "    return text\n",
    "\n",
    "def saveBag(c, old_file_name):\n",
    "    file_name = f'cleaned_{old_file_name.replace(\".htm\", \".txt\")}'\n",
    "    file_path = os.path.join(cleaned_filings_dir, file_name)\n",
    "    with open(file_path, 'w') as file:\n",
    "        file.write(c)"
   ]
  },
  {
   "cell_type": "code",
   "execution_count": null,
   "metadata": {},
   "outputs": [],
   "source": [
    "import os\n",
    "from bs4 import BeautifulSoup\n",
    "\n",
    "cleaned_filings_dir = os.path.join(data_dir, 'cleaned_filings')\n",
    "# os.mkdir(cleaned_filings_dir)\n",
    "\n",
    "pool = mp.Pool(4)\n",
    "for file in os.listdir(filing_dir):\n",
    "    file_path = os.path.join(filing_dir, file)\n",
    "    \n",
    "    callback = partial(saveBag, old_file_name=file)\n",
    "    pool.apply_async(prep_file, args=[file_path], callback=callback, error_callback=lambda x: print('Error: ', x))\n",
    "    \n",
    "pool.close()\n",
    "pool.join()"
   ]
  },
  {
   "cell_type": "code",
   "execution_count": null,
   "metadata": {},
   "outputs": [],
   "source": [
    "def load_text(path):\n",
    "    with open(path, 'r') as file:\n",
    "        return file.read()"
   ]
  },
  {
   "cell_type": "code",
   "execution_count": null,
   "metadata": {},
   "outputs": [],
   "source": [
    "# Change path to match cleaned_filings path instead of raw_filings\n",
    "df_10Q['path'] = df_10Q['path'].str.replace('raw_filings/', 'cleaned_filings/cleaned_')\n",
    "df_10Q['path'] = df_10Q['path'].str.replace('.htm', '.txt')\n",
    "df_10Q['text'] = df_10Q['path'].apply(lambda path: load_text(path))"
   ]
  },
  {
   "cell_type": "code",
   "execution_count": null,
   "metadata": {},
   "outputs": [],
   "source": [
    "# Remove some missed garbage tokens\n",
    "from unidecode import unidecode\n",
    "df_10Q['text'] = df_10Q['text'].apply(lambda text: unidecode(text))"
   ]
  },
  {
   "cell_type": "code",
   "execution_count": null,
   "metadata": {},
   "outputs": [],
   "source": [
    "# Compress\n",
    "df_10Q.to_pickle(os.path.join(data_dir, 'df_10Q.pkl'))"
   ]
  },
  {
   "cell_type": "code",
   "execution_count": null,
   "metadata": {},
   "outputs": [],
   "source": [
    "import pandas as pd\n",
    "import os\n",
    "\n",
    "df_10Q = pd.read_pickle(os.path.join(data_dir, 'df_10Q.pkl'))"
   ]
  },
  {
   "cell_type": "code",
   "execution_count": null,
   "metadata": {},
   "outputs": [],
   "source": [
    "import os\n",
    "import numpy as np\n",
    "\n",
    "diff_dir = os.path.join(data_dir, 'diffed_filings')\n",
    "# os.mkdir(diff_dir)"
   ]
  },
  {
   "cell_type": "code",
   "execution_count": null,
   "metadata": {},
   "outputs": [],
   "source": [
    "import multiprocessing as mp\n",
    "from functools import partial\n",
    "import spacy\n",
    "from fuzzywuzzy import process, fuzz\n",
    "\n",
    "nlp = spacy.load('en_core_web_sm')\n",
    "\n",
    "def diff_text(text1, text2):\n",
    "    new_sentences = []\n",
    "    \n",
    "    # Load into spacy\n",
    "    doc1 = nlp(text1)\n",
    "    doc1_sents = list(map(lambda sent: sent.text, list(doc1.sents)))\n",
    "    doc2 = nlp(text2)\n",
    "    doc2_sents = list(map(lambda sent: sent.text, list(doc2.sents)))\n",
    "    \n",
    "    # Take diff\n",
    "    for sent in doc1_sents:\n",
    "        match = process.extractOne(sent, doc2_sents, score_cutoff=85, scorer=fuzz.QRatio)\n",
    "        if not match:\n",
    "            new_sentences.append(sent)\n",
    "    \n",
    "    return '\\n'.join(new_sentences)\n",
    "\n",
    "def save_diff(diff, name):\n",
    "    path = os.path.join(diff_dir, name)\n",
    "    with open(path, 'w') as file:\n",
    "        print('saving...')\n",
    "        file.write(diff)\n",
    "\n",
    "pool = mp.Pool(mp.cpu_count())\n",
    "for cik in df_10Q['cik'].unique():\n",
    "    filings = df_10Q.loc[df_10Q['cik'] == cik].sort_values('date', ascending=False).reset_index()\n",
    "    for i, filing in filings.iterrows():\n",
    "        if (i + 1) < len(filings):\n",
    "            name = f'{cik}:{filing[\"date\"].strftime(\"%m-%d-%Y\")}.txt'\n",
    "#             if name in os.listdir(diff_dir):\n",
    "#                 continue\n",
    "            prev_filing = df_10Q.iloc[i+1]\n",
    "            \n",
    "            callback = partial(save_diff, name=name)\n",
    "            pool.apply_async(diff_text, args=(filing['text'], prev_filing['text']), callback=callback, error_callback=lambda x: print('Error: ', x))\n",
    "            \n",
    "pool.close()\n",
    "pool.join()"
   ]
  },
  {
   "cell_type": "code",
   "execution_count": null,
   "metadata": {},
   "outputs": [],
   "source": [
    "diff_df = pd.DataFrame(columns=['cik', 'date', 'diff'])\n",
    "for filename in os.listdir(diff_dir):\n",
    "    try:\n",
    "        cik, date = filename.split('.')[0].split(':')\n",
    "    except Exception as e:\n",
    "        print(filename)\n",
    "        continue\n",
    "    \n",
    "    file_path = os.path.join(diff_dir, filename)\n",
    "    with open(file_path) as file:\n",
    "        diff = file.read()\n",
    "    diff_df = diff_df.append({'cik': cik, 'date': date, 'diff': diff}, ignore_index=True)\n",
    "    \n",
    "diff_df['date'] = pd.to_datetime(diff_df['date'], format='%m-%d-%Y')\n",
    "diff_df['cik'] = diff_df['cik'].astype('int')\n",
    "df_10Q = pd.merge(df_10Q, diff_df, on=['cik', 'date'])"
   ]
  },
  {
   "cell_type": "code",
   "execution_count": 169,
   "metadata": {},
   "outputs": [],
   "source": [
    "df_10Q.to_pickle(os.path.join(data_dir, 'df_10Q.pkl'))"
   ]
  },
  {
   "cell_type": "code",
   "execution_count": null,
   "metadata": {},
   "outputs": [],
   "source": [
    "import pandas as pd\n",
    "import os\n",
    "\n",
    "data_dir = os.path.join('data', 'sec')\n",
    "df_10Q = pd.read_pickle(os.path.join(data_dir, 'df_10Q.pkl'))"
   ]
  },
  {
   "cell_type": "markdown",
   "metadata": {},
   "source": [
    "## Term Frequencies"
   ]
  },
  {
   "cell_type": "code",
   "execution_count": null,
   "metadata": {},
   "outputs": [],
   "source": [
    "# One-hot encode present keywords\n",
    "\n",
    "import spacy\n",
    "from spacy.matcher import Matcher\n",
    "\n",
    "terms = ['coronavirus', 'covid', 'recession', 'pandemic']\n",
    "for term in terms:\n",
    "    df_10Q[term+'_present'] = df_10Q['diff'].str.contains(term)"
   ]
  },
  {
   "cell_type": "code",
   "execution_count": null,
   "metadata": {},
   "outputs": [],
   "source": [
    "import matplotlib.pyplot as plt\n",
    "import seaborn as sns\n",
    "\n",
    "plt.style.use('fivethirtyeight')\n",
    "fig, axs = plt.subplots(2, 2, figsize=(14, 12))\n",
    "\n",
    "recent_df = df_10Q.loc[df_10Q['date'] >= '01-01-2020']\n",
    "for i, term in enumerate(terms):\n",
    "    # Cumulative percent of mentions\n",
    "    print('Term:', term.upper())\n",
    "    cumPer = len(df_10Q.loc[df_10Q[term+'_present']]) / len(df_10Q)\n",
    "    print(f'Percent mentioned: {100*cumPer:.2f}%')\n",
    "    \n",
    "    # Recent percent of mentions\n",
    "    recentPer = len(recent_df.loc[recent_df[term+'_present']]) / len(recent_df)\n",
    "    print(f'Percent mentioned (2020): {100*recentPer:.2f}%')\n",
    "    \n",
    "    # Sector makeup of recent mentions\n",
    "    print('Sector breakdown:')\n",
    "    sector_contribs = {}\n",
    "    for sector in recent_df['sector'].unique():\n",
    "        positive_mentions_df = recent_df.loc[recent_df[term+'_present']]\n",
    "        sector_df = positive_mentions_df.loc[positive_mentions_df['sector'] == sector]\n",
    "        percent = len(sector_df) / len(positive_mentions_df)\n",
    "        print(f'\\t {sector}: {100*percent:.2f}%', '('+str(len(sector_df))+')')\n",
    "        \n",
    "        sector_contribs[sector] = percent\n",
    "    \n",
    "    sector_contribs = {sector:percent for (sector, percent) in sector_contribs.items() if percent > 0}\n",
    "    axs.reshape(-1)[i].pie(x=list(sector_contribs.values()), labels=list(sector_contribs.keys()), autopct='%.2f')\n",
    "    axs.reshape(-1)[i].set_title(f'{term.upper()} (present in {100*recentPer:.2f}%)', pad=20)\n",
    "    \n",
    "fig.suptitle('Terms Mentions in 2020 10-Q Filings by Sector', size='xx-large')\n",
    "plt.subplots_adjust(wspace=0, hspace=0.5, top=0.8)\n",
    "plt.savefig(os.path.join(data_dir, 'imgs', 'piechart.png'))\n",
    "plt.show()"
   ]
  },
  {
   "cell_type": "markdown",
   "metadata": {},
   "source": [
    "## Sentiment"
   ]
  },
  {
   "cell_type": "code",
   "execution_count": null,
   "metadata": {},
   "outputs": [],
   "source": [
    "from textblob import TextBlob\n",
    "from functools import reduce\n",
    "\n",
    "term_sentiments = {}\n",
    "for term in terms:\n",
    "    term_filings = df_10Q.loc[df_10Q[term+'_present']]['diff']\n",
    "    mean_sentiment = 0\n",
    "    for filing in term_filings:\n",
    "        mean_sentiment += TextBlob(filing).sentiment.polarity\n",
    "    mean_sentiment /= len(term_filings)\n",
    "    \n",
    "    term_sentiments[term] = mean_sentiment\n",
    "    \n",
    "ax = sns.barplot(x=list(term_sentiments.keys()), y=list(term_sentiments.values()))\n",
    "ax.set_title('Average Sentiment by Term')\n",
    "ax.set_xlabel('Term')\n",
    "ax.set_ylabel('Sentiment')"
   ]
  },
  {
   "cell_type": "code",
   "execution_count": null,
   "metadata": {},
   "outputs": [],
   "source": [
    "# Find average % of non-stop words are pos/neg\n",
    "# Problem: negative terms are overrepresented in the dict\n",
    "\n",
    "fin_dicts = pd.read_excel(os.path.join(data_dir, 'FinSentLists.xlsx'), sheet_name=['Positive', 'Negative'], header=None)\n",
    "pos_words = list(fin_dicts['Positive'][0].str.lower())\n",
    "neg_words = list(fin_dicts['Negative'][0].str.lower())"
   ]
  },
  {
   "cell_type": "code",
   "execution_count": null,
   "metadata": {},
   "outputs": [],
   "source": [
    "from nltk.corpus import stopwords\n",
    "stop_words = set(stopwords.words('english'))\n",
    "\n",
    "terms = ['coronavirus', 'covid', 'recession', 'pandemic']\n",
    "\n",
    "def remove_stopwords(filing):\n",
    "    new_words = []\n",
    "    for word in filing.split():\n",
    "        if word not in stop_words:\n",
    "            new_words.append(word)\n",
    "    return ' '.join(new_words)\n",
    "\n",
    "for term in terms:\n",
    "    print(term.upper())\n",
    "    term_df = df_10Q.loc[df_10Q[term+'_present']]\n",
    "    for i, entry in term_df.iterrows():\n",
    "        filing = remove_stopwords(entry['diff'])\n",
    "        words = filing.split()\n",
    "        pos_prop = len([word for word in words if word in pos_words]) / len(words)\n",
    "        neg_prop = len([word for word in words if word in neg_words]) / len(words)\n",
    "        print('\\t', entry['name'])\n",
    "        print(f'\\tPos: {100*pos_prop:.2f}%')\n",
    "        print(f'\\tNeg: {100*neg_prop:.2f}%')"
   ]
  },
  {
   "cell_type": "code",
   "execution_count": null,
   "metadata": {},
   "outputs": [],
   "source": [
    "# Do sentiment analysis only on sentences containing these words\n",
    "# Each docs score will be the average of these\n",
    "import spacy\n",
    "from spacy.matcher import PhraseMatcher\n",
    "from textblob import TextBlob\n",
    "\n",
    "nlp = spacy.load('en_core_web_sm')\n",
    "matcher = PhraseMatcher(nlp.vocab)\n",
    "matcher.add('POSITIVE', [nlp(word) for word in pos_words])\n",
    "matcher.add('NEGATIVE', [nlp(word) for word in neg_words])"
   ]
  },
  {
   "cell_type": "code",
   "execution_count": null,
   "metadata": {},
   "outputs": [],
   "source": [
    "import numpy as np\n",
    "\n",
    "for term in terms:\n",
    "    term_df = df_10Q.loc[df_10Q[term+'_present']]\n",
    "    \n",
    "    for i, entry in term_df.iterrows():\n",
    "        pos_sents = []\n",
    "        neg_sents = []\n",
    "        \n",
    "        doc = nlp(entry['diff'])\n",
    "        matches = matcher(doc)\n",
    "        \n",
    "        for match_id, start, end in matches:\n",
    "            label = nlp.vocab.strings[match_id]\n",
    "            if label == 'POSITIVE':\n",
    "                pos_sents.append(doc[start:end].sent)\n",
    "            elif label == 'NEGATIVE':\n",
    "                neg_sents.append(doc[start:end].sent)\n",
    "        \n",
    "        mean_pos_sent_sentiment = 0\n",
    "        pos_sent_l = []\n",
    "        for sent in pos_sents:\n",
    "            s = TextBlob(sent.text).sentiment.polarity\n",
    "            pos_sent_l.append(s)\n",
    "            mean_pos_sent_sentiment += s\n",
    "        mean_pos_sent_sentiment /= len(pos_sents)\n",
    "        \n",
    "        mean_neg_sent_sentiment = 0\n",
    "        neg_sent_l = []\n",
    "        for sent in neg_sents:\n",
    "            s = TextBlob(sent.text).sentiment.polarity\n",
    "            neg_sent_l.append(s)\n",
    "            mean_neg_sent_sentiment += s\n",
    "        mean_neg_sent_sentiment /= len(neg_sents)\n",
    "        \n",
    "        print('meanPOS:', mean_pos_sent_sentiment)\n",
    "        print('medianPOS:', np.median(pos_sent_l))\n",
    "        print('meanNEG:', mean_neg_sent_sentiment)\n",
    "        print('medianNEG:', np.median(neg_sent_l))"
   ]
  },
  {
   "cell_type": "markdown",
   "metadata": {},
   "source": [
    "That didn't work very well either. I'll try using just the words from the financial terms dictionary to calculate sentiment as the difference ratio of pos/neg words"
   ]
  },
  {
   "cell_type": "code",
   "execution_count": 161,
   "metadata": {},
   "outputs": [],
   "source": [
    "import numpy as np\n",
    "from sklearn.feature_extraction.text import CountVectorizer\n",
    "    \n",
    "sentiment_list = []\n",
    "for i, entry in df_10Q.iterrows():\n",
    "    vctrzr = CountVectorizer()\n",
    "    count_map = vctrzr.fit_transform([entry['diff']]).toarray()[0]\n",
    "    \n",
    "    pos_count = 0\n",
    "    for pos_word in pos_words:\n",
    "        try:\n",
    "            pos_count += count_map[vctrzr.get_feature_names().index(pos_word)]\n",
    "        except ValueError:\n",
    "            pass\n",
    "#             print('Token \"', pos_word, '\" not found in doc')\n",
    "\n",
    "    neg_count = 0\n",
    "    for neg_word in neg_words:\n",
    "        try:\n",
    "            neg_count += count_map[vctrzr.get_feature_names().index(neg_word)]\n",
    "        except ValueError:\n",
    "            pass\n",
    "#             print('Token \"', neg_word, '\" not found in doc')\n",
    "\n",
    "    sentiment = (2*pos_count - neg_count) / (2*pos_count + neg_count + 1e-10)\n",
    "    sentiment_list.append(sentiment)\n",
    "\n",
    "df_10Q['sentiment'] = sentiment_list"
   ]
  },
  {
   "cell_type": "code",
   "execution_count": 162,
   "metadata": {},
   "outputs": [
    {
     "data": {
      "text/plain": [
       "<matplotlib.axes._subplots.AxesSubplot at 0x7fb01fb4a9e8>"
      ]
     },
     "execution_count": 162,
     "metadata": {},
     "output_type": "execute_result"
    },
    {
     "data": {
      "image/png": "[encoded data removed]",
      "text/plain": [
       "<Figure size 432x288 with 1 Axes>"
      ]
     },
     "metadata": {
      "needs_background": "light"
     },
     "output_type": "display_data"
    }
   ],
   "source": [
    "df_10Q['sentiment'].hist()"
   ]
  },
  {
   "cell_type": "code",
   "execution_count": 164,
   "metadata": {},
   "outputs": [
    {
     "name": "stdout",
     "output_type": "stream",
     "text": [
      "Overall mean sentiment: -0.07784632259127879\n",
      "CORONAVIRUS sentiment mean: -0.08790010236051159\n",
      "COVID sentiment mean: -0.200707436692748\n",
      "RECESSION sentiment mean: -0.20014773884780684\n",
      "PANDEMIC sentiment mean: -0.12256008440364483\n"
     ]
    }
   ],
   "source": [
    "print('Overall mean sentiment:', df_10Q['sentiment'].mean())\n",
    "\n",
    "for term in terms:\n",
    "    term_df = df_10Q.loc[df_10Q[term+'_present']]\n",
    "    print(term.upper(), 'sentiment mean:', term_df['sentiment'].mean())"
   ]
  },
  {
   "cell_type": "markdown",
   "metadata": {},
   "source": [
    "## Market Data"
   ]
  },
  {
   "cell_type": "code",
   "execution_count": 168,
   "metadata": {},
   "outputs": [
    {
     "data": {
      "text/plain": [
       "<Figure size 1152x576 with 0 Axes>"
      ]
     },
     "metadata": {},
     "output_type": "display_data"
    },
    {
     "data": {
      "text/plain": [
       "<Figure size 1152x576 with 0 Axes>"
      ]
     },
     "metadata": {},
     "output_type": "display_data"
    },
    {
     "data": {
      "text/plain": [
       "<Figure size 1152x576 with 0 Axes>"
      ]
     },
     "metadata": {},
     "output_type": "display_data"
    },
    {
     "data": {
      "text/plain": [
       "<Figure size 1152x576 with 0 Axes>"
      ]
     },
     "metadata": {},
     "output_type": "display_data"
    },
    {
     "data": {
      "text/plain": [
       "<Figure size 1152x576 with 0 Axes>"
      ]
     },
     "metadata": {},
     "output_type": "display_data"
    },
    {
     "data": {
      "text/plain": [
       "<Figure size 1152x576 with 0 Axes>"
      ]
     },
     "metadata": {},
     "output_type": "display_data"
    },
    {
     "data": {
      "text/plain": [
       "<Figure size 1152x576 with 0 Axes>"
      ]
     },
     "metadata": {},
     "output_type": "display_data"
    },
    {
     "data": {
      "text/plain": [
       "<Figure size 1152x576 with 0 Axes>"
      ]
     },
     "metadata": {},
     "output_type": "display_data"
    },
    {
     "data": {
      "text/plain": [
       "<Figure size 1152x576 with 0 Axes>"
      ]
     },
     "metadata": {},
     "output_type": "display_data"
    },
    {
     "data": {
      "text/plain": [
       "<Figure size 1152x576 with 0 Axes>"
      ]
     },
     "metadata": {},
     "output_type": "display_data"
    },
    {
     "data": {
      "text/plain": [
       "<Figure size 1152x576 with 0 Axes>"
      ]
     },
     "metadata": {},
     "output_type": "display_data"
    },
    {
     "data": {
      "text/plain": [
       "<Figure size 1152x576 with 0 Axes>"
      ]
     },
     "metadata": {},
     "output_type": "display_data"
    },
    {
     "data": {
      "text/plain": [
       "<Figure size 1152x576 with 0 Axes>"
      ]
     },
     "metadata": {},
     "output_type": "display_data"
    },
    {
     "data": {
      "text/plain": [
       "<Figure size 1152x576 with 0 Axes>"
      ]
     },
     "metadata": {},
     "output_type": "display_data"
    },
    {
     "data": {
      "text/plain": [
       "<Figure size 1152x576 with 0 Axes>"
      ]
     },
     "metadata": {},
     "output_type": "display_data"
    },
    {
     "data": {
      "text/plain": [
       "<Figure size 1152x576 with 0 Axes>"
      ]
     },
     "metadata": {},
     "output_type": "display_data"
    },
    {
     "data": {
      "text/plain": [
       "<Figure size 1152x576 with 0 Axes>"
      ]
     },
     "metadata": {},
     "output_type": "display_data"
    },
    {
     "data": {
      "text/plain": [
       "<Figure size 1152x576 with 0 Axes>"
      ]
     },
     "metadata": {},
     "output_type": "display_data"
    },
    {
     "data": {
      "text/plain": [
       "<Figure size 1152x576 with 0 Axes>"
      ]
     },
     "metadata": {},
     "output_type": "display_data"
    },
    {
     "data": {
      "image/png": "[encoded data removed]",
      "text/plain": [
       "<Figure size 1152x576 with 1 Axes>"
      ]
     },
     "metadata": {
      "needs_background": "light"
     },
     "output_type": "display_data"
    },
    {
     "data": {
      "text/plain": [
       "<Figure size 1152x576 with 0 Axes>"
      ]
     },
     "metadata": {},
     "output_type": "display_data"
    },
    {
     "data": {
      "text/plain": [
       "<Figure size 1152x576 with 0 Axes>"
      ]
     },
     "metadata": {},
     "output_type": "display_data"
    },
    {
     "data": {
      "text/plain": [
       "<Figure size 1152x576 with 0 Axes>"
      ]
     },
     "metadata": {},
     "output_type": "display_data"
    },
    {
     "data": {
      "text/plain": [
       "<Figure size 1152x576 with 0 Axes>"
      ]
     },
     "metadata": {},
     "output_type": "display_data"
    },
    {
     "data": {
      "text/plain": [
       "<Figure size 1152x576 with 0 Axes>"
      ]
     },
     "metadata": {},
     "output_type": "display_data"
    },
    {
     "data": {
      "text/plain": [
       "<Figure size 1152x576 with 0 Axes>"
      ]
     },
     "metadata": {},
     "output_type": "display_data"
    },
    {
     "data": {
      "text/plain": [
       "<Figure size 1152x576 with 0 Axes>"
      ]
     },
     "metadata": {},
     "output_type": "display_data"
    },
    {
     "data": {
      "text/plain": [
       "<Figure size 1152x576 with 0 Axes>"
      ]
     },
     "metadata": {},
     "output_type": "display_data"
    }
   ],
   "source": [
    "import alpaca_trade_api as trade_api\n",
    "from datetime import date, timedelta\n",
    "import matplotlib.pyplot as plt\n",
    "import matplotlib.dates as mdates\n",
    "import seaborn as sns\n",
    "import math\n",
    "from adjustText import adjust_text\n",
    "\n",
    "alpaca = trade_api.REST('AKKM2M8BDXOY29K2KQYD', 'DebMrSIcw33jd/nLaUyf2S6OTqU54/B90JSX5A30')\n",
    "assets = alpaca.list_assets()\n",
    "assets = [asset.symbol for asset in assets if asset._raw['class'] == 'us_equity']\n",
    "\n",
    "months = mdates.MonthLocator()\n",
    "\n",
    "terms = ['coronavirus', 'covid', 'recession', 'pandemic']\n",
    "for term in terms:\n",
    "    term_df = df_10Q.loc[df_10Q[term+'_present']].loc[df_10Q['date'] >= '2020-01-01']\n",
    "    symbols = list(term_df['ticker'])\n",
    "    start = datetime(year=2020, month=1, day=1)\n",
    "    end = datetime.now()\n",
    "    \n",
    "    alpaca_time_fmt = '%Y-%m-%dT%H:%M:%S.%f-04:00'\n",
    "    barset = alpaca.get_barset(symbols=symbols, timeframe='day', start=start.strftime(alpaca_time_fmt), end=end.strftime(alpaca_time_fmt))\n",
    "    \n",
    "    for ticker, bars in barset.items():\n",
    "        if ticker not in assets:\n",
    "            continue\n",
    "        \n",
    "        filtered_bars = list(filter(lambda bar: bar.t.date() >= start.date(), bars))\n",
    "        if len(filtered_bars) == 0:\n",
    "            continue\n",
    "            \n",
    "        timestamps = [bar.t.date() for bar in filtered_bars]\n",
    "        closing_prices = [bar.c for bar in filtered_bars]\n",
    "        \n",
    "        # Plot\n",
    "        fig = plt.figure(figsize=(16, 8))\n",
    "        ax = sns.lineplot(timestamps, closing_prices)\n",
    "        sent = df_10Q.loc[df_10Q['ticker'] == ticker].sort_values(by='date', ascending=False).iloc[0]['sentiment']\n",
    "        ax.set_title(f'{ticker.upper()} mentioned {term.upper()} (sent={sent:.2f})')\n",
    "        ax.set_xlabel('Date')\n",
    "        ax.set_ylabel('Price $')\n",
    "        ax.xaxis.set_major_locator(months)\n",
    "        ax.set_xlim(start, end)\n",
    "        ax.xaxis.set_major_formatter(mdates.AutoDateFormatter(months))\n",
    "\n",
    "        # Annotate\n",
    "        annots = []\n",
    "        # - Earnings date\n",
    "        earnings_date = term_df.loc[term_df['ticker'] == ticker]['date'].iloc[0].date()\n",
    "        try:\n",
    "            price_on_earnings = closing_prices[timestamps.index(earnings_date)]\n",
    "        except ValueError:\n",
    "            try:\n",
    "                t_date = earnings_date + timedelta(days=1)\n",
    "                price_on_earnings = closing_prices[timestamps.index(t_date)]\n",
    "            except ValueError:\n",
    "                t_date = earnings_date - timedelta(days=1)\n",
    "                price_on_earnings = closing_prices[timestamps.index(t_date)]\n",
    "        annots.append(ax.text(earnings_date, price_on_earnings, 'Earnings'))\n",
    "\n",
    "        # - Pandemic declared\n",
    "        pandemic_date = date(year=2020, month=3, day=10)\n",
    "        try:\n",
    "            price_on_pandemic = closing_prices[timestamps.index(pandemic_date)]\n",
    "        except:\n",
    "            continue\n",
    "        annots.append(ax.text(pandemic_date, price_on_pandemic, 'Pandemic Declared'))\n",
    "\n",
    "        # - New York shutdown\n",
    "        ny_date = date(year=2020, month=3, day=20)\n",
    "        try:\n",
    "            price_on_ny_date = closing_prices[timestamps.index(ny_date)]\n",
    "        except:\n",
    "            continue\n",
    "        annots.append(ax.text(ny_date, price_on_ny_date, 'NY Shuts Down'))\n",
    "        \n",
    "        x = [(timestamp - date(year=1, month=1, day=1)).days+1 for timestamp in timestamps]\n",
    "        adjust_text(annots, x=x, y=closing_prices,only_move={'text': 'y'}, arrowprops=dict(arrowstyle=\"->\", color='r', lw=3))\n",
    "        \n",
    "        plt.savefig(os.path.join(data_dir, 'imgs', f'{term.upper()}({ticker})Bars.png'))\n",
    "        plt.clf()"
   ]
  }
 ],
 "metadata": {
  "kernelspec": {
   "display_name": "Python 3",
   "language": "python",
   "name": "python3"
  },
  "language_info": {
   "codemirror_mode": {
    "name": "ipython",
    "version": 3
   },
   "file_extension": ".py",
   "mimetype": "text/x-python",
   "name": "python",
   "nbconvert_exporter": "python",
   "pygments_lexer": "ipython3",
   "version": "3.7.1"
  }
 },
 "nbformat": 4,
 "nbformat_minor": 4
}
