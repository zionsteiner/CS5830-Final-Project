{
 "cells": [
  {
   "cell_type": "markdown",
   "metadata": {},
   "source": [
    "# SEC Data Collection\n",
    "### Steps\n",
    "1. Get urls for filings\n",
    "2. Get company info and filter by marketcap\n",
    "4. Download filings\n",
    "5. Clean filings\n",
    "6. Diff filings"
   ]
  },
  {
   "cell_type": "code",
   "execution_count": null,
   "metadata": {},
   "outputs": [],
   "source": [
    "# 1. Get urls for 2019 Q3 filings and more recent\n",
    "\n",
    "import edgar\n",
    "import os\n",
    "\n",
    "data_dir = os.path.join(os.getcwd(), 'data/sec')\n",
    "# os.mkdir(data_dir)\n",
    "indices_dir = os.path.join(data_dir, 'indices')\n",
    "# os.mkdir(indices_dir)\n",
    "# edgar.download_index(indices_dir, 2019, False)"
   ]
  },
  {
   "cell_type": "code",
   "execution_count": null,
   "metadata": {},
   "outputs": [],
   "source": [
    "\"\"\"\n",
    "2. Get company info and filter by marketcap\n",
    "    a. Get list of ticker symbols\n",
    "    b. Join symbols with filings dataset on cik\n",
    "    c. Get marketcap for each\n",
    "    d. Get sector for each\n",
    "    e. Filter by marketcap\n",
    "\"\"\" \n",
    "# Reference code: https://github.com/PlatorSolutions/quarterly-earnings-machine-learning-algo/blob/master/download_raw_html.py\n",
    "import pandas as pd\n",
    "import os\n",
    "\n",
    "filings_dir = os.path.join(data_dir, 'filings')\n",
    "# os.mkdir(filings_dir)\n",
    "\n",
    "df = pd.DataFrame()\n",
    "for tsv in os.listdir(indices_dir):\n",
    "    if '.ipynb_checkpoints' in tsv:\n",
    "        continue\n",
    "    path = os.path.join(indices_dir, tsv)\n",
    "    df_ext = pd.read_csv(path, delimiter='|', names=['cik', 'name', 'type', 'date', 'text_uri', 'index_url'])\n",
    "    df = df.append(df_ext)\n",
    "    \n",
    "df_10Q = df[df['type'] == '10-Q'].reset_index()\n",
    "df_10Q['date'] = pd.to_datetime(df_10Q['date'], format='%Y-%m-%d')"
   ]
  },
  {
   "cell_type": "code",
   "execution_count": null,
   "metadata": {},
   "outputs": [],
   "source": [
    "import requests\n",
    "import numpy as np\n",
    "\n",
    "def cik_to_ticker(cik):\n",
    "    endpoint = f'https://mapping-api.herokuapp.com/cik/{cik}'\n",
    "    res = requests.get(endpoint)\n",
    "    if len(res.json()) < 1:\n",
    "        return np.nan\n",
    "    return res.json()[0]['ticker']"
   ]
  },
  {
   "cell_type": "code",
   "execution_count": null,
   "metadata": {},
   "outputs": [],
   "source": [
    "def ticker_to_company_info(ticker):\n",
    "    key_id = 'AKQLE29QN0JRVM0Y786Y'\n",
    "    endpoint = f'https://api.polygon.io/v1/meta/symbols/{ticker}/company?apiKey={key_id}'\n",
    "    res = requests.get(endpoint)\n",
    "    if res.status_code == 200 and 'json' in res.headers['Content-Type']:\n",
    "        return res.json()\n",
    "    else:\n",
    "        return np.nan"
   ]
  },
  {
   "cell_type": "code",
   "execution_count": null,
   "metadata": {},
   "outputs": [],
   "source": [
    "df_10Q['ticker'] = df_10Q['cik'].apply(lambda cik: cik_to_ticker(cik))"
   ]
  },
  {
   "cell_type": "code",
   "execution_count": null,
   "metadata": {},
   "outputs": [],
   "source": [
    "import time\n",
    "\n",
    "df_10Q = df_10Q.dropna()\n",
    "company_info_list = df_10Q['ticker'].apply(lambda ticker: ticker_to_company_info(ticker))"
   ]
  },
  {
   "cell_type": "code",
   "execution_count": null,
   "metadata": {},
   "outputs": [],
   "source": [
    "bool_index = company_info_list.notna()\n",
    "company_info_list = company_info_list.loc[bool_index]\n",
    "df_10Q = df_10Q.loc[bool_index].reset_index()"
   ]
  },
  {
   "cell_type": "code",
   "execution_count": null,
   "metadata": {},
   "outputs": [],
   "source": [
    "df_10Q['marketcap'] = company_info_list.apply(lambda info: info['marketcap'])\n",
    "df_10Q['sector'] = company_info_list.apply(lambda info: info['sector'])\n",
    "df_10Q = df_10Q.dropna()"
   ]
  },
  {
   "cell_type": "code",
   "execution_count": null,
   "metadata": {},
   "outputs": [],
   "source": [
    "df_10Q['marketcap'].describe()"
   ]
  },
  {
   "cell_type": "code",
   "execution_count": null,
   "metadata": {},
   "outputs": [],
   "source": [
    "df_10Q = df_10Q.loc[df_10Q['marketcap'] >= 1e9]"
   ]
  },
  {
   "cell_type": "code",
   "execution_count": null,
   "metadata": {},
   "outputs": [],
   "source": [
    "df_10Q = df_10Q.reset_index(drop=True).drop(['level_0', 'index'], axis=1)"
   ]
  },
  {
   "cell_type": "code",
   "execution_count": null,
   "metadata": {},
   "outputs": [],
   "source": [
    "# 3. Download filings\n",
    "import requests\n",
    "from bs4 import BeautifulSoup\n",
    "\n",
    "filing_dir = os.path.join(data_dir, 'raw_filings')\n",
    "# os.mkdir(filing_dir)\n",
    "\n",
    "sec_url = 'https://www.sec.gov/Archives'\n",
    "min_change = 1\n",
    "curr_change = 0\n",
    "path_list = []\n",
    "for i, filing in df_10Q.iterrows():\n",
    "    if i > 0:\n",
    "        curr_val = (i / len(df_10Q)) * 100\n",
    "        curr_change += curr_val - (((i - 1) / len(df_10Q)) * 100)\n",
    "        if curr_change >= min_change:\n",
    "            print(f'{curr_val:.2f}% downloaded')\n",
    "            curr_change = 0\n",
    "    \n",
    "    # Get page\n",
    "    path = os.path.join(sec_url, filing['index_url'])\n",
    "    res = requests.get(path)\n",
    "    soup = BeautifulSoup(res.content, 'lxml')\n",
    "    \n",
    "    # Find download href\n",
    "    files_table = soup.find('table', {'class': 'tableFile', 'summary': 'Document Format Files'})\n",
    "    anchor_element = None\n",
    "    for row in files_table.find_all('tr'):\n",
    "        e = row.find_all('td')\n",
    "        if len(e) >= 4 and e[3].text == filing['type']:\n",
    "            anchor_element = e[2].find('a', href=True)\n",
    "            break\n",
    "    \n",
    "    anchor = anchor_element['href']\n",
    "    name = anchor_element.text\n",
    "    acceptance_date = soup.find('div', attrs={'class': 'infoHead'}, text='Accepted').findNext('div', {'class': 'info'}).text\n",
    "\n",
    "    if 'ix?' in anchor:\n",
    "        anchor = '/' + '/'.join(anchor.split('/')[2:])\n",
    "    \n",
    "    # Download\n",
    "    sec_base = 'https://www.sec.gov'\n",
    "    download_res = requests.get(sec_base + anchor)\n",
    "    \n",
    "    # Save\n",
    "    file_name = '_'.join([filing['name'].replace(' ', '').replace('/', ''), filing['type'], filing['date'].strftime('%Y-%m')]) + '.htm'\n",
    "    file_path = os.path.join(filing_dir, file_name)\n",
    "    with open(file_path, 'w') as file:\n",
    "        file.write(download_res.text)\n",
    "    \n",
    "    path_list.append(file_path)"
   ]
  },
  {
   "cell_type": "code",
   "execution_count": null,
   "metadata": {},
   "outputs": [],
   "source": [
    "df_10Q['path'] = path_list"
   ]
  },
  {
   "cell_type": "code",
   "execution_count": null,
   "metadata": {},
   "outputs": [],
   "source": [
    "# 5. Clean filings\n",
    "import html\n",
    "import multiprocessing as mp\n",
    "import re\n",
    "from functools import partial\n",
    "\n",
    "def removeInnerLinks(soup):\n",
    "    [i.extract() for i in soup.find_all('a', href=True) if len(i['href']) > 0 and i['href'][0] == '#']\n",
    "    return soup\n",
    "\n",
    "def remove_xbrli(soup):\n",
    "    [x.extract() for x in soup.find_all(re.compile(\"^xbrli:\"))]\n",
    "    return soup\n",
    "\n",
    "def removeNumericalTables(soup):\n",
    "\n",
    "    def GetDigitPercentage(tablestring):\n",
    "        if len(tablestring) > 0.0:\n",
    "            numbers = sum([char.isdigit() for char in tablestring])\n",
    "            length = len(tablestring)\n",
    "            return numbers / length\n",
    "        else:\n",
    "            return 1\n",
    "\n",
    "    def containsBgColor(table):\n",
    "        for row in table.find_all('tr'):\n",
    "            colored = 'background-color' in str(row) or 'bgcolor' in str(row)\n",
    "            if colored:\n",
    "                return True\n",
    "        return False\n",
    "\n",
    "    [x.extract() for x in soup.find_all('table') if containsBgColor(x)]\n",
    "\n",
    "    [x.extract() for x in soup.find_all('table') if GetDigitPercentage(x.get_text()) > 0.15]\n",
    "\n",
    "    return soup\n",
    "\n",
    "def prep_text(text):\n",
    "    soup = BeautifulSoup(html.unescape(re.sub(r'\\s+', ' ', text)), \"lxml\")\n",
    "\n",
    "    soup = remove_xbrli(soup)\n",
    "\n",
    "    soup = removeInnerLinks(soup)\n",
    "\n",
    "    soup = removeNumericalTables(soup)\n",
    "\n",
    "    [x.unwrap() for x in soup.find_all(['span', 'font', 'b', 'i', 'u', 'strong'])]\n",
    "\n",
    "    soup.smooth()\n",
    "\n",
    "    text = soup.get_text(separator=\"\\n\", strip=True)\n",
    "\n",
    "    stop_words = set(['HUNDRED', 'THOUSAND', 'MILLION', 'BILLION', 'TRILLION', 'DATE', 'ANNUAL', 'ANNUALLY', 'ANNUM', 'YEAR', 'YEARLY', 'QUARTER', 'QUARTERLY', 'QTR', 'MONTH', 'MONTHLY', 'WEEK', 'WEEKLY', 'DAY', 'DAILY', 'JANUARY', 'FEBRUARY', 'MARCH', 'APRIL', 'MAY', 'JUNE', 'JULY', 'AUGUST', 'SEPTEMBER', 'OCTOBER', 'NOVEMBER', 'DECEMBER', 'JAN', 'FEB', 'MAR', 'APR', 'MAY', 'JUN', 'JUL', 'AUG', 'SEP', 'SEPT', 'OCT', 'NOV', 'DEC', 'MONDAY', 'TUESDAY', 'WEDNESDAY', 'THURSDAY', 'FRIDAY', 'SATURDAY', 'SUNDAY', 'ONE', 'TWO', 'THREE', 'FOUR', 'FIVE', 'SIX', 'SEVEN', 'EIGHT', 'NINE', 'TEN', 'ELEVEN', 'TWELVE', 'THIRTEEN', 'FOURTEEN', 'FIFTEEN', 'SIXTEEN', 'SEVENTEEN', 'EIGHTEEN', 'NINETEEN', 'TWENTY', 'THIRTY', 'FORTY', 'FIFTY', 'SIXTY', 'SEVENTY', 'EIGHTY', 'NINETY', 'FIRST', 'SECOND', 'THIRD', 'FOURTH', 'FIFTH', 'SIXTH', 'SEVENTH', 'EIGHTH', 'NINTH', 'TENTH'])\n",
    "    pattern = re.compile(r'\\b(' + r'|'.join(stop_words) + r')\\b\\s*', re.IGNORECASE)\n",
    "    text = pattern.sub('', text)\n",
    "\n",
    "    pattern = re.compile('\\s[^a-zA-Z\\s]+?(?=(\\.*\\s))')\n",
    "    text = pattern.sub('', text)\n",
    "\n",
    "    text = '\\n'.join(\n",
    "        filter(lambda line: len(line) > 0 and (sum(i.isalpha() for i in line) / len(line) > .5), text.splitlines()))\n",
    "\n",
    "    return text\n",
    "\n",
    "\n",
    "def prep_file(path):\n",
    "    with open(path) as f:\n",
    "        text = prep_text(f.read())\n",
    "    return text\n",
    "\n",
    "def saveBag(c, old_file_name):\n",
    "    file_name = f'cleaned_{old_file_name.replace(\".htm\", \".txt\")}'\n",
    "    file_path = os.path.join(cleaned_filings_dir, file_name)\n",
    "    with open(file_path, 'w') as file:\n",
    "        file.write(c)"
   ]
  },
  {
   "cell_type": "code",
   "execution_count": null,
   "metadata": {},
   "outputs": [],
   "source": [
    "import os\n",
    "from bs4 import BeautifulSoup\n",
    "\n",
    "cleaned_filings_dir = os.path.join(data_dir, 'cleaned_filings')\n",
    "# os.mkdir(cleaned_filings_dir)\n",
    "\n",
    "pool = mp.Pool(4)\n",
    "for file in os.listdir(filing_dir):\n",
    "    file_path = os.path.join(filing_dir, file)\n",
    "    \n",
    "    callback = partial(saveBag, old_file_name=file)\n",
    "    pool.apply_async(prep_file, args=[file_path], callback=callback, error_callback=lambda x: print('Error: ', x))\n",
    "    \n",
    "pool.close()\n",
    "pool.join()"
   ]
  },
  {
   "cell_type": "code",
   "execution_count": null,
   "metadata": {},
   "outputs": [],
   "source": [
    "def load_text(path):\n",
    "    with open(path, 'r') as file:\n",
    "        return file.read()"
   ]
  },
  {
   "cell_type": "code",
   "execution_count": null,
   "metadata": {},
   "outputs": [],
   "source": [
    "# Change path to match cleaned_filings path instead of raw_filings\n",
    "df_10Q['path'] = df_10Q['path'].str.replace('raw_filings/', 'cleaned_filings/cleaned_')\n",
    "df_10Q['path'] = df_10Q['path'].str.replace('.htm', '.txt')\n",
    "df_10Q['text'] = df_10Q['path'].apply(lambda path: load_text(path))"
   ]
  },
  {
   "cell_type": "code",
   "execution_count": null,
   "metadata": {},
   "outputs": [],
   "source": [
    "# Remove some missed garbage tokens\n",
    "from unidecode import unidecode\n",
    "df_10Q['text'] = df_10Q['text'].apply(lambda text: unidecode(text))"
   ]
  },
  {
   "cell_type": "code",
   "execution_count": null,
   "metadata": {},
   "outputs": [],
   "source": [
    "# Compress\n",
    "df_10Q.to_pickle(os.path.join(data_dir, 'df_10Q.pkl'))"
   ]
  },
  {
   "cell_type": "code",
   "execution_count": null,
   "metadata": {},
   "outputs": [],
   "source": [
    "import pandas as pd\n",
    "import os\n",
    "\n",
    "df_10Q = pd.read_pickle(os.path.join(data_dir, 'df_10Q.pkl'))"
   ]
  },
  {
   "cell_type": "code",
   "execution_count": null,
   "metadata": {},
   "outputs": [],
   "source": [
    "import os\n",
    "import numpy as np\n",
    "\n",
    "diff_dir = os.path.join(data_dir, 'diffed_filings')\n",
    "# os.mkdir(diff_dir)"
   ]
  },
  {
   "cell_type": "code",
   "execution_count": null,
   "metadata": {},
   "outputs": [],
   "source": [
    "import multiprocessing as mp\n",
    "from functools import partial\n",
    "import spacy\n",
    "from fuzzywuzzy import process, fuzz\n",
    "\n",
    "nlp = spacy.load('en_core_web_sm')\n",
    "\n",
    "def diff_text(text1, text2):\n",
    "    new_sentences = []\n",
    "    \n",
    "    # Load into spacy\n",
    "    doc1 = nlp(text1)\n",
    "    doc1_sents = list(map(lambda sent: sent.text, list(doc1.sents)))\n",
    "    doc2 = nlp(text2)\n",
    "    doc2_sents = list(map(lambda sent: sent.text, list(doc2.sents)))\n",
    "    \n",
    "    # Take diff\n",
    "    for sent in doc1_sents:\n",
    "        match = process.extractOne(sent, doc2_sents, score_cutoff=85, scorer=fuzz.QRatio)\n",
    "        if not match:\n",
    "            new_sentences.append(sent)\n",
    "    \n",
    "    return '\\n'.join(new_sentences)\n",
    "\n",
    "def save_diff(diff, name):\n",
    "    path = os.path.join(diff_dir, name)\n",
    "    with open(path, 'w') as file:\n",
    "        print('saving...')\n",
    "        file.write(diff)\n",
    "\n",
    "pool = mp.Pool(mp.cpu_count())\n",
    "for cik in df_10Q['cik'].unique():\n",
    "    filings = df_10Q.loc[df_10Q['cik'] == cik].sort_values('date', ascending=False).reset_index()\n",
    "    for i, filing in filings.iterrows():\n",
    "        if (i + 1) < len(filings):\n",
    "            name = f'{cik}:{filing[\"date\"].strftime(\"%m-%d-%Y\")}.txt'\n",
    "#             if name in os.listdir(diff_dir):\n",
    "#                 continue\n",
    "            prev_filing = df_10Q.iloc[i+1]\n",
    "            \n",
    "            callback = partial(save_diff, name=name)\n",
    "            pool.apply_async(diff_text, args=(filing['text'], prev_filing['text']), callback=callback, error_callback=lambda x: print('Error: ', x))\n",
    "            \n",
    "pool.close()\n",
    "pool.join()"
   ]
  },
  {
   "cell_type": "code",
   "execution_count": null,
   "metadata": {},
   "outputs": [],
   "source": [
    "diff_df = pd.DataFrame(columns=['cik', 'date', 'diff'])\n",
    "for filename in os.listdir(diff_dir):\n",
    "    try:\n",
    "        cik, date = filename.split('.')[0].split(':')\n",
    "    except Exception as e:\n",
    "        print(filename)\n",
    "        continue\n",
    "    \n",
    "    file_path = os.path.join(diff_dir, filename)\n",
    "    with open(file_path) as file:\n",
    "        diff = file.read()\n",
    "    diff_df = diff_df.append({'cik': cik, 'date': date, 'diff': diff}, ignore_index=True)\n",
    "    \n",
    "diff_df['date'] = pd.to_datetime(diff_df['date'], format='%m-%d-%Y')\n",
    "diff_df['cik'] = diff_df['cik'].astype('int')\n",
    "df_10Q = pd.merge(df_10Q, diff_df, on=['cik', 'date'])"
   ]
  },
  {
   "cell_type": "code",
   "execution_count": 169,
   "metadata": {},
   "outputs": [],
   "source": [
    "df_10Q.to_pickle(os.path.join(data_dir, 'df_10Q.pkl'))"
   ]
  },
  {
   "cell_type": "code",
   "execution_count": 52,
   "metadata": {},
   "outputs": [],
   "source": [
    "import pandas as pd\n",
    "import os\n",
    "\n",
    "data_dir = os.path.join('data', 'sec')\n",
    "df_10Q = pd.read_pickle(os.path.join(data_dir, 'df_10Q.pkl'))"
   ]
  },
  {
   "cell_type": "markdown",
   "metadata": {},
   "source": [
    "## Term Frequencies"
   ]
  },
  {
   "cell_type": "code",
   "execution_count": null,
   "metadata": {},
   "outputs": [],
   "source": [
    "# One-hot encode present keywords\n",
    "\n",
    "import spacy\n",
    "from spacy.matcher import Matcher\n",
    "\n",
    "terms = ['coronavirus', 'covid', 'recession', 'pandemic']\n",
    "for term in terms:\n",
    "    df_10Q[term+'_present'] = df_10Q['diff'].str.contains(term)"
   ]
  },
  {
   "cell_type": "code",
   "execution_count": 9,
   "metadata": {},
   "outputs": [
    {
     "name": "stdout",
     "output_type": "stream",
     "text": [
      "Term: CORONAVIRUS\n",
      "Percent mentioned: 1.56%\n",
      "Percent mentioned (2020): 27.45%\n",
      "Sector breakdown:\n",
      "\t Healthcare: 7.14% (1)\n",
      "\t Technology: 21.43% (3)\n",
      "\t Communication Services: 0.00% (0)\n",
      "\t Consumer Defensive: 14.29% (2)\n",
      "\t Industrials: 28.57% (4)\n",
      "\t Consumer Cyclical: 0.00% (0)\n",
      "\t Financial Services: 28.57% (4)\n",
      "\t Basic Materials: 0.00% (0)\n",
      "Term: COVID\n",
      "Percent mentioned: 1.11%\n",
      "Percent mentioned (2020): 13.73%\n",
      "Sector breakdown:\n",
      "\t Healthcare: 28.57% (2)\n",
      "\t Technology: 28.57% (2)\n",
      "\t Communication Services: 0.00% (0)\n",
      "\t Consumer Defensive: 14.29% (1)\n",
      "\t Industrials: 14.29% (1)\n",
      "\t Consumer Cyclical: 14.29% (1)\n",
      "\t Financial Services: 0.00% (0)\n",
      "\t Basic Materials: 0.00% (0)\n",
      "Term: RECESSION\n",
      "Percent mentioned: 7.91%\n",
      "Percent mentioned (2020): 5.88%\n",
      "Sector breakdown:\n",
      "\t Healthcare: 0.00% (0)\n",
      "\t Technology: 0.00% (0)\n",
      "\t Communication Services: 0.00% (0)\n",
      "\t Consumer Defensive: 0.00% (0)\n",
      "\t Industrials: 33.33% (1)\n",
      "\t Consumer Cyclical: 33.33% (1)\n",
      "\t Financial Services: 0.00% (0)\n",
      "\t Basic Materials: 33.33% (1)\n",
      "Term: PANDEMIC\n",
      "Percent mentioned: 6.35%\n",
      "Percent mentioned (2020): 11.76%\n",
      "Sector breakdown:\n",
      "\t Healthcare: 0.00% (0)\n",
      "\t Technology: 33.33% (2)\n",
      "\t Communication Services: 0.00% (0)\n",
      "\t Consumer Defensive: 16.67% (1)\n",
      "\t Industrials: 16.67% (1)\n",
      "\t Consumer Cyclical: 16.67% (1)\n",
      "\t Financial Services: 16.67% (1)\n",
      "\t Basic Materials: 0.00% (0)\n"
     ]
    },
    {
     "data": {
      "image/png": "[encoded data removed]",
      "text/plain": [
       "<Figure size 1008x864 with 4 Axes>"
      ]
     },
     "metadata": {},
     "output_type": "display_data"
    }
   ],
   "source": [
    "import matplotlib.pyplot as plt\n",
    "import seaborn as sns\n",
    "\n",
    "terms = ['coronavirus', 'covid', 'recession', 'pandemic']\n",
    "\n",
    "plt.style.use('fivethirtyeight')\n",
    "fig, axs = plt.subplots(2, 2, figsize=(14, 12))\n",
    "\n",
    "recent_df = df_10Q.loc[df_10Q['date'] >= '01-01-2020']\n",
    "for i, term in enumerate(terms):\n",
    "    # Cumulative percent of mentions\n",
    "    print('Term:', term.upper())\n",
    "    cumPer = len(df_10Q.loc[df_10Q[term+'_present']]) / len(df_10Q)\n",
    "    print(f'Percent mentioned: {100*cumPer:.2f}%')\n",
    "    \n",
    "    # Recent percent of mentions\n",
    "    recentPer = len(recent_df.loc[recent_df[term+'_present']]) / len(recent_df)\n",
    "    print(f'Percent mentioned (2020): {100*recentPer:.2f}%')\n",
    "    \n",
    "    # Sector makeup of recent mentions\n",
    "    print('Sector breakdown:')\n",
    "    sector_contribs = {}\n",
    "    for sector in recent_df['sector'].unique():\n",
    "        positive_mentions_df = recent_df.loc[recent_df[term+'_present']]\n",
    "        sector_df = positive_mentions_df.loc[positive_mentions_df['sector'] == sector]\n",
    "        percent = len(sector_df) / len(positive_mentions_df)\n",
    "        print(f'\\t {sector}: {100*percent:.2f}%', '('+str(len(sector_df))+')')\n",
    "        \n",
    "        sector_contribs[sector] = percent\n",
    "    \n",
    "    sector_contribs = {sector:percent for (sector, percent) in sector_contribs.items() if percent > 0}\n",
    "    axs.reshape(-1)[i].pie(x=list(sector_contribs.values()), labels=list(sector_contribs.keys()), autopct='%.2f%%')\n",
    "    axs.reshape(-1)[i].set_title(f'{term.upper()} (present in {100*recentPer:.2f}%)', pad=20)\n",
    "    \n",
    "fig.suptitle('Terms Mentions in 2020 10-Q Filings by Sector', size='xx-large')\n",
    "plt.subplots_adjust(wspace=0, hspace=0.5, top=0.8)\n",
    "plt.savefig(os.path.join(data_dir, 'imgs', 'piechart.png'))\n",
    "plt.show()"
   ]
  },
  {
   "cell_type": "markdown",
   "metadata": {},
   "source": [
    "## Sentiment"
   ]
  },
  {
   "cell_type": "code",
   "execution_count": 5,
   "metadata": {},
   "outputs": [
    {
     "data": {
      "text/plain": [
       "Text(0, 0.5, 'Sentiment')"
      ]
     },
     "execution_count": 5,
     "metadata": {},
     "output_type": "execute_result"
    },
    {
     "data": {
      "image/png": "[encoded data removed]",
      "text/plain": [
       "<Figure size 432x288 with 1 Axes>"
      ]
     },
     "metadata": {},
     "output_type": "display_data"
    }
   ],
   "source": [
    "from textblob import TextBlob\n",
    "from functools import reduce\n",
    "import matplotlib.pyplot as plt\n",
    "import seaborn as sns\n",
    "\n",
    "terms = ['coronavirus', 'covid', 'recession', 'pandemic']\n",
    "\n",
    "plt.style.use('fivethirtyeight')\n",
    "\n",
    "term_sentiments = {}\n",
    "for term in terms:\n",
    "    term_filings = df_10Q.loc[df_10Q[term+'_present']]['diff']\n",
    "    mean_sentiment = 0\n",
    "    for filing in term_filings:\n",
    "        mean_sentiment += TextBlob(filing).sentiment.polarity\n",
    "    mean_sentiment /= len(term_filings)\n",
    "    \n",
    "    term_sentiments[term] = mean_sentiment\n",
    "    \n",
    "ax = sns.barplot(x=list(term_sentiments.keys()), y=list(term_sentiments.values()))\n",
    "ax.set_title('Average Sentiment by Term')\n",
    "ax.set_xlabel('Term')\n",
    "ax.set_ylabel('Sentiment')"
   ]
  },
  {
   "cell_type": "code",
   "execution_count": 167,
   "metadata": {},
   "outputs": [],
   "source": [
    "# Find average % of non-stop words are pos/neg\n",
    "# Problem: negative terms are overrepresented in the dict\n",
    "import pandas as pd\n",
    "import os\n",
    "\n",
    "fin_dicts = pd.read_excel(os.path.join(data_dir, 'FinSentLists.xlsx'), sheet_name=['Positive', 'Negative'], header=None)\n",
    "pos_words = list(fin_dicts['Positive'][0].str.lower())\n",
    "neg_words = list(fin_dicts['Negative'][0].str.lower())"
   ]
  },
  {
   "cell_type": "code",
   "execution_count": 7,
   "metadata": {},
   "outputs": [
    {
     "name": "stdout",
     "output_type": "stream",
     "text": [
      "6.6525423728813555\n"
     ]
    }
   ],
   "source": [
    "print(len(neg_words) / len(pos_words))"
   ]
  },
  {
   "cell_type": "code",
   "execution_count": 170,
   "metadata": {},
   "outputs": [
    {
     "name": "stderr",
     "output_type": "stream",
     "text": [
      "[nltk_data] Downloading package stopwords to /home/zion/nltk_data...\n",
      "[nltk_data]   Package stopwords is already up-to-date!\n"
     ]
    },
    {
     "name": "stdout",
     "output_type": "stream",
     "text": [
      "CORONAVIRUS\n",
      "\t BECTON DICKINSON & CO\n",
      "\tPos: 1.07%\n",
      "\tNeg: 3.40%\n",
      "\t Woodward, Inc.\n",
      "\tPos: 0.99%\n",
      "\tNeg: 1.72%\n",
      "\t CALAVO GROWERS INC\n",
      "\tPos: 1.10%\n",
      "\tNeg: 1.47%\n",
      "\t Toll Brothers, Inc.\n",
      "\tPos: 0.53%\n",
      "\tNeg: 1.78%\n",
      "\t ORACLE CORP\n",
      "\tPos: 0.73%\n",
      "\tNeg: 2.18%\n",
      "\t AeroVironment Inc\n",
      "\tPos: 1.41%\n",
      "\tNeg: 2.25%\n",
      "\t CROWN CRAFTS INC\n",
      "\tPos: 0.72%\n",
      "\tNeg: 1.88%\n"
     ]
    },
    {
     "ename": "KeyboardInterrupt",
     "evalue": "",
     "output_type": "error",
     "traceback": [
      "\u001b[0;31m---------------------------------------------------------------------------\u001b[0m",
      "\u001b[0;31mKeyboardInterrupt\u001b[0m                         Traceback (most recent call last)",
      "\u001b[0;32m<ipython-input-170-328f7ad40780>\u001b[0m in \u001b[0;36m<module>\u001b[0;34m\u001b[0m\n\u001b[1;32m     22\u001b[0m         \u001b[0mwords\u001b[0m \u001b[0;34m=\u001b[0m \u001b[0mfiling\u001b[0m\u001b[0;34m.\u001b[0m\u001b[0msplit\u001b[0m\u001b[0;34m(\u001b[0m\u001b[0;34m)\u001b[0m\u001b[0;34m\u001b[0m\u001b[0;34m\u001b[0m\u001b[0m\n\u001b[1;32m     23\u001b[0m         \u001b[0mpos_prop\u001b[0m \u001b[0;34m=\u001b[0m \u001b[0mlen\u001b[0m\u001b[0;34m(\u001b[0m\u001b[0;34m[\u001b[0m\u001b[0mword\u001b[0m \u001b[0;32mfor\u001b[0m \u001b[0mword\u001b[0m \u001b[0;32min\u001b[0m \u001b[0mwords\u001b[0m \u001b[0;32mif\u001b[0m \u001b[0mword\u001b[0m \u001b[0;32min\u001b[0m \u001b[0mpos_words\u001b[0m\u001b[0;34m]\u001b[0m\u001b[0;34m)\u001b[0m \u001b[0;34m/\u001b[0m \u001b[0mlen\u001b[0m\u001b[0;34m(\u001b[0m\u001b[0mwords\u001b[0m\u001b[0;34m)\u001b[0m\u001b[0;34m\u001b[0m\u001b[0;34m\u001b[0m\u001b[0m\n\u001b[0;32m---> 24\u001b[0;31m         \u001b[0mneg_prop\u001b[0m \u001b[0;34m=\u001b[0m \u001b[0mlen\u001b[0m\u001b[0;34m(\u001b[0m\u001b[0;34m[\u001b[0m\u001b[0mword\u001b[0m \u001b[0;32mfor\u001b[0m \u001b[0mword\u001b[0m \u001b[0;32min\u001b[0m \u001b[0mwords\u001b[0m \u001b[0;32mif\u001b[0m \u001b[0mword\u001b[0m \u001b[0;32min\u001b[0m \u001b[0mneg_words\u001b[0m\u001b[0;34m]\u001b[0m\u001b[0;34m)\u001b[0m \u001b[0;34m/\u001b[0m \u001b[0mlen\u001b[0m\u001b[0;34m(\u001b[0m\u001b[0mwords\u001b[0m\u001b[0;34m)\u001b[0m\u001b[0;34m\u001b[0m\u001b[0;34m\u001b[0m\u001b[0m\n\u001b[0m\u001b[1;32m     25\u001b[0m         \u001b[0mprint\u001b[0m\u001b[0;34m(\u001b[0m\u001b[0;34m'\\t'\u001b[0m\u001b[0;34m,\u001b[0m \u001b[0mentry\u001b[0m\u001b[0;34m[\u001b[0m\u001b[0;34m'name'\u001b[0m\u001b[0;34m]\u001b[0m\u001b[0;34m)\u001b[0m\u001b[0;34m\u001b[0m\u001b[0;34m\u001b[0m\u001b[0m\n\u001b[1;32m     26\u001b[0m         \u001b[0mprint\u001b[0m\u001b[0;34m(\u001b[0m\u001b[0;34mf'\\tPos: {100*pos_prop:.2f}%'\u001b[0m\u001b[0;34m)\u001b[0m\u001b[0;34m\u001b[0m\u001b[0;34m\u001b[0m\u001b[0m\n",
      "\u001b[0;32m<ipython-input-170-328f7ad40780>\u001b[0m in \u001b[0;36m<listcomp>\u001b[0;34m(.0)\u001b[0m\n\u001b[1;32m     22\u001b[0m         \u001b[0mwords\u001b[0m \u001b[0;34m=\u001b[0m \u001b[0mfiling\u001b[0m\u001b[0;34m.\u001b[0m\u001b[0msplit\u001b[0m\u001b[0;34m(\u001b[0m\u001b[0;34m)\u001b[0m\u001b[0;34m\u001b[0m\u001b[0;34m\u001b[0m\u001b[0m\n\u001b[1;32m     23\u001b[0m         \u001b[0mpos_prop\u001b[0m \u001b[0;34m=\u001b[0m \u001b[0mlen\u001b[0m\u001b[0;34m(\u001b[0m\u001b[0;34m[\u001b[0m\u001b[0mword\u001b[0m \u001b[0;32mfor\u001b[0m \u001b[0mword\u001b[0m \u001b[0;32min\u001b[0m \u001b[0mwords\u001b[0m \u001b[0;32mif\u001b[0m \u001b[0mword\u001b[0m \u001b[0;32min\u001b[0m \u001b[0mpos_words\u001b[0m\u001b[0;34m]\u001b[0m\u001b[0;34m)\u001b[0m \u001b[0;34m/\u001b[0m \u001b[0mlen\u001b[0m\u001b[0;34m(\u001b[0m\u001b[0mwords\u001b[0m\u001b[0;34m)\u001b[0m\u001b[0;34m\u001b[0m\u001b[0;34m\u001b[0m\u001b[0m\n\u001b[0;32m---> 24\u001b[0;31m         \u001b[0mneg_prop\u001b[0m \u001b[0;34m=\u001b[0m \u001b[0mlen\u001b[0m\u001b[0;34m(\u001b[0m\u001b[0;34m[\u001b[0m\u001b[0mword\u001b[0m \u001b[0;32mfor\u001b[0m \u001b[0mword\u001b[0m \u001b[0;32min\u001b[0m \u001b[0mwords\u001b[0m \u001b[0;32mif\u001b[0m \u001b[0mword\u001b[0m \u001b[0;32min\u001b[0m \u001b[0mneg_words\u001b[0m\u001b[0;34m]\u001b[0m\u001b[0;34m)\u001b[0m \u001b[0;34m/\u001b[0m \u001b[0mlen\u001b[0m\u001b[0;34m(\u001b[0m\u001b[0mwords\u001b[0m\u001b[0;34m)\u001b[0m\u001b[0;34m\u001b[0m\u001b[0;34m\u001b[0m\u001b[0m\n\u001b[0m\u001b[1;32m     25\u001b[0m         \u001b[0mprint\u001b[0m\u001b[0;34m(\u001b[0m\u001b[0;34m'\\t'\u001b[0m\u001b[0;34m,\u001b[0m \u001b[0mentry\u001b[0m\u001b[0;34m[\u001b[0m\u001b[0;34m'name'\u001b[0m\u001b[0;34m]\u001b[0m\u001b[0;34m)\u001b[0m\u001b[0;34m\u001b[0m\u001b[0;34m\u001b[0m\u001b[0m\n\u001b[1;32m     26\u001b[0m         \u001b[0mprint\u001b[0m\u001b[0;34m(\u001b[0m\u001b[0;34mf'\\tPos: {100*pos_prop:.2f}%'\u001b[0m\u001b[0;34m)\u001b[0m\u001b[0;34m\u001b[0m\u001b[0;34m\u001b[0m\u001b[0m\n",
      "\u001b[0;31mKeyboardInterrupt\u001b[0m: "
     ]
    }
   ],
   "source": [
    "import nltk\n",
    "nltk.download('stopwords')\n",
    "from nltk.corpus import stopwords\n",
    "\n",
    "\n",
    "stop_words = set(stopwords.words('english'))\n",
    "\n",
    "terms = ['coronavirus', 'covid', 'recession', 'pandemic']\n",
    "\n",
    "def remove_stopwords(filing):\n",
    "    new_words = []\n",
    "    for word in filing.split():\n",
    "        if word not in stop_words:\n",
    "            new_words.append(word)\n",
    "    return ' '.join(new_words)\n",
    "\n",
    "for term in terms:\n",
    "    print(term.upper())\n",
    "    term_df = df_10Q.loc[df_10Q[term+'_present']]\n",
    "    for i, entry in term_df.iterrows():\n",
    "        filing = remove_stopwords(entry['diff'])\n",
    "        words = filing.split()\n",
    "        pos_prop = len([word for word in words if word in pos_words]) / len(words)\n",
    "        neg_prop = len([word for word in words if word in neg_words]) / len(words)\n",
    "        print('\\t', entry['name'])\n",
    "        print(f'\\tPos: {100*pos_prop:.2f}%')\n",
    "        print(f'\\tNeg: {100*neg_prop:.2f}%')"
   ]
  },
  {
   "cell_type": "code",
   "execution_count": null,
   "metadata": {},
   "outputs": [],
   "source": [
    "# Do sentiment analysis only on sentences containing these words\n",
    "# Each docs score will be the average of these\n",
    "import spacy\n",
    "from spacy.matcher import PhraseMatcher\n",
    "from textblob import TextBlob\n",
    "\n",
    "nlp = spacy.load('en_core_web_sm')\n",
    "matcher = PhraseMatcher(nlp.vocab)\n",
    "matcher.add('POSITIVE', [nlp(word) for word in pos_words])\n",
    "matcher.add('NEGATIVE', [nlp(word) for word in neg_words])"
   ]
  },
  {
   "cell_type": "code",
   "execution_count": null,
   "metadata": {},
   "outputs": [],
   "source": [
    "import numpy as np\n",
    "\n",
    "for term in terms:\n",
    "    term_df = df_10Q.loc[df_10Q[term+'_present']]\n",
    "    \n",
    "    for i, entry in term_df.iterrows():\n",
    "        pos_sents = []\n",
    "        neg_sents = []\n",
    "        \n",
    "        doc = nlp(entry['diff'])\n",
    "        matches = matcher(doc)\n",
    "        \n",
    "        for match_id, start, end in matches:\n",
    "            label = nlp.vocab.strings[match_id]\n",
    "            if label == 'POSITIVE':\n",
    "                pos_sents.append(doc[start:end].sent)\n",
    "            elif label == 'NEGATIVE':\n",
    "                neg_sents.append(doc[start:end].sent)\n",
    "        \n",
    "        mean_pos_sent_sentiment = 0\n",
    "        pos_sent_l = []\n",
    "        for sent in pos_sents:\n",
    "            s = TextBlob(sent.text).sentiment.polarity\n",
    "            pos_sent_l.append(s)\n",
    "            mean_pos_sent_sentiment += s\n",
    "        if len(pos_sents) > 0:\n",
    "            mean_pos_sent_sentiment /= len(pos_sents)\n",
    "        else:\n",
    "            mean_pos_sent_sentiment = np.nan\n",
    "        \n",
    "        mean_neg_sent_sentiment = 0\n",
    "        neg_sent_l = []\n",
    "        for sent in neg_sents:\n",
    "            s = TextBlob(sent.text).sentiment.polarity\n",
    "            neg_sent_l.append(s)\n",
    "            mean_neg_sent_sentiment += s\n",
    "        if len(neg_sents) > 0:\n",
    "            mean_neg_sent_sentiment /= len(neg_sents)\n",
    "        else:\n",
    "            mean_neg_sent_sentiment = np.nan\n",
    "        \n",
    "        print('meanPOS:', mean_pos_sent_sentiment)\n",
    "        print('medianPOS:', np.median(pos_sent_l))\n",
    "        print('meanNEG:', mean_neg_sent_sentiment)\n",
    "        print('medianNEG:', np.median(neg_sent_l))"
   ]
  },
  {
   "cell_type": "markdown",
   "metadata": {},
   "source": [
    "That didn't work very well either. I'll try using just the words from the financial terms dictionary to calculate sentiment as the difference ratio of pos/neg words"
   ]
  },
  {
   "cell_type": "code",
   "execution_count": null,
   "metadata": {},
   "outputs": [],
   "source": [
    "import numpy as np\n",
    "from sklearn.feature_extraction.text import CountVectorizer\n",
    "    \n",
    "sentiment_list = []\n",
    "for i, entry in df_10Q.iterrows():\n",
    "    vctrzr = CountVectorizer()\n",
    "    count_map = vctrzr.fit_transform([entry['diff']]).toarray()[0]\n",
    "    \n",
    "    pos_count = 0\n",
    "    for pos_word in pos_words:\n",
    "        try:\n",
    "            pos_count += count_map[vctrzr.get_feature_names().index(pos_word)]\n",
    "        except ValueError:\n",
    "            pass\n",
    "#             print('Token \"', pos_word, '\" not found in doc')\n",
    "\n",
    "    neg_count = 0\n",
    "    for neg_word in neg_words:\n",
    "        try:\n",
    "            neg_count += count_map[vctrzr.get_feature_names().index(neg_word)]\n",
    "        except ValueError:\n",
    "            pass\n",
    "#             print('Token \"', neg_word, '\" not found in doc')\n",
    "\n",
    "    sentiment = (2*pos_count - neg_count) / (2*pos_count + neg_count + 1e-10)\n",
    "    sentiment_list.append(sentiment)\n",
    "\n",
    "df_10Q['sentiment'] = sentiment_list"
   ]
  },
  {
   "cell_type": "code",
   "execution_count": 164,
   "metadata": {},
   "outputs": [
    {
     "data": {
      "text/plain": [
       "Text(0.5, 1.0, 'Sentiment Distribution')"
      ]
     },
     "execution_count": 164,
     "metadata": {},
     "output_type": "execute_result"
    },
    {
     "data": {
      "image/png": "[encoded data removed]",
      "text/plain": [
       "<Figure size 432x288 with 1 Axes>"
      ]
     },
     "metadata": {},
     "output_type": "display_data"
    }
   ],
   "source": [
    "df_10Q['sentiment'].hist().set_title('Sentiment Distribution')"
   ]
  },
  {
   "cell_type": "code",
   "execution_count": 164,
   "metadata": {},
   "outputs": [],
   "source": [
    "print('Overall mean sentiment:', df_10Q['sentiment'].mean())\n",
    "\n",
    "for term in terms:\n",
    "    term_df = df_10Q.loc[df_10Q[term+'_present']]\n",
    "    print(term.upper(), 'sentiment mean:', term_df['sentiment'].mean())"
   ]
  },
  {
   "cell_type": "code",
   "execution_count": 13,
   "metadata": {},
   "outputs": [
    {
     "data": {
      "image/png": "[encoded data removed]",
      "text/plain": [
       "<Figure size 432x288 with 1 Axes>"
      ]
     },
     "metadata": {},
     "output_type": "display_data"
    }
   ],
   "source": [
    "# This assumes no document mentions more than one unique term. This is not the case for at least document\n",
    "def one_hot_to_term(entry):\n",
    "    for term in terms:\n",
    "        if entry[term+'_present']:\n",
    "            return term\n",
    "\n",
    "df_10Q['term'] = df_10Q.apply(lambda entry: one_hot_to_term(entry), axis=1)\n",
    "\n",
    "ax = sns.barplot(x='term', y='sentiment', data=df_10Q)\n",
    "ax.set_title('Average Sentiment by Term')\n",
    "ax.set_xlabel('Term')\n",
    "ax.set_ylabel('Sentiment')\n",
    "\n",
    "plt.savefig(os.path.join(data_dir, 'barplots2.png'))"
   ]
  },
  {
   "cell_type": "code",
   "execution_count": 18,
   "metadata": {},
   "outputs": [
    {
     "data": {
      "text/plain": [
       "Financial Services        135\n",
       "Technology                134\n",
       "Consumer Cyclical         132\n",
       "Industrials               121\n",
       "Healthcare                108\n",
       "Real Estate                71\n",
       "Energy                     54\n",
       "Consumer Defensive         52\n",
       "Basic Materials            48\n",
       "Utilities                  32\n",
       "Communication Services     11\n",
       "Name: sector, dtype: int64"
      ]
     },
     "execution_count": 18,
     "metadata": {},
     "output_type": "execute_result"
    }
   ],
   "source": [
    "df_10Q['sector'].value_counts()"
   ]
  },
  {
   "cell_type": "code",
   "execution_count": 19,
   "metadata": {},
   "outputs": [
    {
     "data": {
      "text/plain": [
       "Industrials               11\n",
       "Technology                11\n",
       "Financial Services         9\n",
       "Consumer Cyclical          6\n",
       "Healthcare                 5\n",
       "Consumer Defensive         4\n",
       "Basic Materials            3\n",
       "Communication Services     2\n",
       "Name: sector, dtype: int64"
      ]
     },
     "execution_count": 19,
     "metadata": {},
     "output_type": "execute_result"
    }
   ],
   "source": [
    "recent_df = df_10Q.loc[df_10Q['date'] >= '2020-01-01']\n",
    "recent_df['sector'].value_counts()"
   ]
  },
  {
   "cell_type": "code",
   "execution_count": 21,
   "metadata": {},
   "outputs": [
    {
     "name": "stdout",
     "output_type": "stream",
     "text": [
      "tech 0.2727272727272727\n",
      "ind 0.36363636363636365\n",
      "health 0.2\n",
      "con_def 0.5\n",
      "fin 0.4444444444444444\n"
     ]
    }
   ],
   "source": [
    "tech = 3/11\n",
    "print('tech', tech)\n",
    "ind = 4/11\n",
    "print('ind', ind)\n",
    "health = 1/5\n",
    "print('health', health)\n",
    "con_def = 2/4\n",
    "print('con_def', con_def)\n",
    "fin = 4/9\n",
    "print('fin', fin)"
   ]
  },
  {
   "cell_type": "markdown",
   "metadata": {},
   "source": [
    "## Market Data"
   ]
  },
  {
   "cell_type": "code",
   "execution_count": 148,
   "metadata": {},
   "outputs": [
    {
     "name": "stderr",
     "output_type": "stream",
     "text": [
      "/home/zion/.local/lib/python3.6/site-packages/ipykernel_launcher.py:43: RuntimeWarning: More than 20 figures have been opened. Figures created through the pyplot interface (`matplotlib.pyplot.figure`) are retained until explicitly closed and may consume too much memory. (To control this warning, see the rcParam `figure.max_open_warning`).\n"
     ]
    },
    {
     "data": {
      "text/plain": [
       "<Figure size 1152x576 with 0 Axes>"
      ]
     },
     "metadata": {},
     "output_type": "display_data"
    },
    {
     "data": {
      "text/plain": [
       "<Figure size 1152x576 with 0 Axes>"
      ]
     },
     "metadata": {},
     "output_type": "display_data"
    },
    {
     "data": {
      "text/plain": [
       "<Figure size 1152x576 with 0 Axes>"
      ]
     },
     "metadata": {},
     "output_type": "display_data"
    },
    {
     "data": {
      "text/plain": [
       "<Figure size 1152x576 with 0 Axes>"
      ]
     },
     "metadata": {},
     "output_type": "display_data"
    },
    {
     "data": {
      "text/plain": [
       "<Figure size 1152x576 with 0 Axes>"
      ]
     },
     "metadata": {},
     "output_type": "display_data"
    },
    {
     "data": {
      "text/plain": [
       "<Figure size 1152x576 with 0 Axes>"
      ]
     },
     "metadata": {},
     "output_type": "display_data"
    },
    {
     "data": {
      "text/plain": [
       "<Figure size 1152x576 with 0 Axes>"
      ]
     },
     "metadata": {},
     "output_type": "display_data"
    },
    {
     "data": {
      "text/plain": [
       "<Figure size 1152x576 with 0 Axes>"
      ]
     },
     "metadata": {},
     "output_type": "display_data"
    },
    {
     "data": {
      "text/plain": [
       "<Figure size 1152x576 with 0 Axes>"
      ]
     },
     "metadata": {},
     "output_type": "display_data"
    },
    {
     "data": {
      "text/plain": [
       "<Figure size 1152x576 with 0 Axes>"
      ]
     },
     "metadata": {},
     "output_type": "display_data"
    },
    {
     "data": {
      "text/plain": [
       "<Figure size 1152x576 with 0 Axes>"
      ]
     },
     "metadata": {},
     "output_type": "display_data"
    },
    {
     "data": {
      "text/plain": [
       "<Figure size 1152x576 with 0 Axes>"
      ]
     },
     "metadata": {},
     "output_type": "display_data"
    },
    {
     "data": {
      "text/plain": [
       "<Figure size 1152x576 with 0 Axes>"
      ]
     },
     "metadata": {},
     "output_type": "display_data"
    },
    {
     "data": {
      "text/plain": [
       "<Figure size 1152x576 with 0 Axes>"
      ]
     },
     "metadata": {},
     "output_type": "display_data"
    },
    {
     "data": {
      "text/plain": [
       "<Figure size 1152x576 with 0 Axes>"
      ]
     },
     "metadata": {},
     "output_type": "display_data"
    },
    {
     "data": {
      "text/plain": [
       "<Figure size 1152x576 with 0 Axes>"
      ]
     },
     "metadata": {},
     "output_type": "display_data"
    },
    {
     "data": {
      "text/plain": [
       "<Figure size 1152x576 with 0 Axes>"
      ]
     },
     "metadata": {},
     "output_type": "display_data"
    },
    {
     "data": {
      "text/plain": [
       "<Figure size 1152x576 with 0 Axes>"
      ]
     },
     "metadata": {},
     "output_type": "display_data"
    },
    {
     "data": {
      "text/plain": [
       "<Figure size 1152x576 with 0 Axes>"
      ]
     },
     "metadata": {},
     "output_type": "display_data"
    },
    {
     "data": {
      "image/png": "[encoded data removed]",
      "text/plain": [
       "<Figure size 1152x576 with 1 Axes>"
      ]
     },
     "metadata": {},
     "output_type": "display_data"
    },
    {
     "data": {
      "text/plain": [
       "<Figure size 1152x576 with 0 Axes>"
      ]
     },
     "metadata": {},
     "output_type": "display_data"
    },
    {
     "data": {
      "text/plain": [
       "<Figure size 1152x576 with 0 Axes>"
      ]
     },
     "metadata": {},
     "output_type": "display_data"
    },
    {
     "data": {
      "text/plain": [
       "<Figure size 1152x576 with 0 Axes>"
      ]
     },
     "metadata": {},
     "output_type": "display_data"
    },
    {
     "data": {
      "text/plain": [
       "<Figure size 1152x576 with 0 Axes>"
      ]
     },
     "metadata": {},
     "output_type": "display_data"
    },
    {
     "data": {
      "text/plain": [
       "<Figure size 1152x576 with 0 Axes>"
      ]
     },
     "metadata": {},
     "output_type": "display_data"
    },
    {
     "data": {
      "text/plain": [
       "<Figure size 1152x576 with 0 Axes>"
      ]
     },
     "metadata": {},
     "output_type": "display_data"
    },
    {
     "data": {
      "text/plain": [
       "<Figure size 1152x576 with 0 Axes>"
      ]
     },
     "metadata": {},
     "output_type": "display_data"
    },
    {
     "data": {
      "text/plain": [
       "<Figure size 1152x576 with 0 Axes>"
      ]
     },
     "metadata": {},
     "output_type": "display_data"
    }
   ],
   "source": [
    "import alpaca_trade_api as trade_api\n",
    "from datetime import date, timedelta\n",
    "import matplotlib.pyplot as plt\n",
    "import matplotlib.dates as mdates\n",
    "import seaborn as sns\n",
    "import math\n",
    "from datetime import datetime\n",
    "import numpy as np\n",
    "from adjustText import adjust_text\n",
    "\n",
    "alpaca = trade_api.REST('AKKM2M8BDXOY29K2KQYD', 'DebMrSIcw33jd/nLaUyf2S6OTqU54/B90JSX5A30')\n",
    "assets = alpaca.list_assets()\n",
    "assets = [asset.symbol for asset in assets if asset._raw['class'] == 'us_equity']\n",
    "\n",
    "months = mdates.MonthLocator()\n",
    "\n",
    "price_change_dict = {}\n",
    "\n",
    "terms = ['coronavirus', 'covid', 'recession', 'pandemic']\n",
    "for term in terms:\n",
    "    price_change_list = []\n",
    "    \n",
    "    term_df = df_10Q.loc[df_10Q[term+'_present']].loc[df_10Q['date'] >= '2020-01-01']\n",
    "    symbols = list(term_df['ticker'])\n",
    "    start = datetime(year=2020, month=1, day=1)\n",
    "    end = datetime(year=2020, month=4, day=20)\n",
    "    \n",
    "    alpaca_time_fmt = '%Y-%m-%dT%H:%M:%S.%f-04:00'\n",
    "    barset = alpaca.get_barset(symbols=symbols, timeframe='day', start=start.strftime(alpaca_time_fmt), end=end.strftime(alpaca_time_fmt))\n",
    "    \n",
    "    for ticker, bars in barset.items():\n",
    "        if ticker not in assets:\n",
    "            continue\n",
    "        \n",
    "        filtered_bars = list(filter(lambda bar: bar.t.date() >= start.date(), bars))\n",
    "        if len(filtered_bars) == 0:\n",
    "            continue\n",
    "            \n",
    "        timestamps = [bar.t.date() for bar in filtered_bars]\n",
    "        closing_prices = [bar.c for bar in filtered_bars]\n",
    "        \n",
    "        # Plot\n",
    "        fig = plt.figure(figsize=(16, 8))\n",
    "        ax = sns.lineplot(timestamps, closing_prices)\n",
    "        sent = df_10Q.loc[df_10Q['ticker'] == ticker].sort_values(by='date', ascending=False).iloc[0]['sentiment']\n",
    "        ax.set_title(f'{ticker.upper()} mentioned {term.upper()} (sent={sent:.2f})')\n",
    "        ax.set_xlabel('Date')\n",
    "        ax.set_ylabel('Price $')\n",
    "        ax.xaxis.set_major_locator(months)\n",
    "        ax.set_xlim(start, end)\n",
    "        ax.xaxis.set_major_formatter(mdates.AutoDateFormatter(months))\n",
    "\n",
    "        # Annotate\n",
    "        annots = []\n",
    "        # - Earnings date\n",
    "        earnings_date = term_df.loc[term_df['ticker'] == ticker]['date'].iloc[0].date()\n",
    "        try:\n",
    "            price_before_earnings = closing_prices[timestamps.index(earnings_date)-1]\n",
    "            price_on_earnings = closing_prices[timestamps.index(earnings_date)]\n",
    "            price_after_earnings = closing_prices[timestamps.index(earnings_date)+1]\n",
    "            change = (price_after_earnings - price_before_earnings) / price_before_earnings\n",
    "            price_change_dict[ticker] = change\n",
    "            \n",
    "        except ValueError:\n",
    "            try:\n",
    "                t_date = earnings_date + timedelta(days=1)\n",
    "                price_on_earnings = closing_prices[timestamps.index(t_date)]\n",
    "            except ValueError:\n",
    "                t_date = earnings_date - timedelta(days=1)\n",
    "                price_on_earnings = closing_prices[timestamps.index(t_date)]\n",
    "        annots.append(ax.text(earnings_date, price_on_earnings, 'Earnings'))\n",
    "\n",
    "        # - Pandemic declared\n",
    "        pandemic_date = date(year=2020, month=3, day=10)\n",
    "        try:\n",
    "            price_on_pandemic = closing_prices[timestamps.index(pandemic_date)]\n",
    "        except:\n",
    "            continue\n",
    "        annots.append(ax.text(pandemic_date, price_on_pandemic, 'Pandemic Declared'))\n",
    "\n",
    "        # - New York shutdown\n",
    "        ny_date = date(year=2020, month=3, day=20)\n",
    "        try:\n",
    "            price_on_ny_date = closing_prices[timestamps.index(ny_date)]\n",
    "        except:\n",
    "            continue\n",
    "        annots.append(ax.text(ny_date, price_on_ny_date, 'NY Shuts Down'))\n",
    "        \n",
    "        x = [(timestamp - date(year=1, month=1, day=1)).days+1 for timestamp in timestamps]\n",
    "        adjust_text(annots, x=x, y=closing_prices,only_move={'text': 'y'}, arrowprops=dict(arrowstyle=\"->\", color='r', lw=3))\n",
    "        \n",
    "        plt.savefig(os.path.join(data_dir, 'imgs', f'{term.upper()}({ticker})Bars.png'))\n",
    "        plt.clf()"
   ]
  },
  {
   "cell_type": "code",
   "execution_count": 149,
   "metadata": {},
   "outputs": [],
   "source": [
    "price_df = pd.DataFrame(columns=['ticker', 'price_change'])\n",
    "price_df['ticker'] = price_change_dict.keys()\n",
    "price_df['price_change'] = price_change_dict.values()\n",
    "\n",
    "df_10Q = df_10Q.merge(price_df, how='outer', on='ticker')"
   ]
  },
  {
   "cell_type": "code",
   "execution_count": 140,
   "metadata": {},
   "outputs": [
    {
     "name": "stdout",
     "output_type": "stream",
     "text": [
      "datetime.date(2019, 8, 7) is not in list\n",
      "datetime.date(2019, 5, 14) is not in list\n",
      "datetime.date(2019, 12, 18) is not in list\n"
     ]
    }
   ],
   "source": [
    "# Get prices for remaining stocks\n",
    "import alpaca_trade_api as trade_api\n",
    "from datetime import date, timedelta\n",
    "import matplotlib.pyplot as plt\n",
    "import matplotlib.dates as mdates\n",
    "import seaborn as sns\n",
    "import math\n",
    "from datetime import datetime\n",
    "import numpy as np\n",
    "from adjustText import adjust_text\n",
    "\n",
    "alpaca = trade_api.REST('AKKM2M8BDXOY29K2KQYD', 'DebMrSIcw33jd/nLaUyf2S6OTqU54/B90JSX5A30')\n",
    "assets = alpaca.list_assets()\n",
    "assets = [asset.symbol for asset in assets if asset._raw['class'] == 'us_equity']\n",
    "\n",
    "months = mdates.MonthLocator()\n",
    "\n",
    "price_change_dict = {}\n",
    "date_dict = {}\n",
    "    \n",
    "start = datetime(year=2019, month=1, day=1)\n",
    "end = datetime(year=2020, month=4, day=20)\n",
    "\n",
    "alpaca_time_fmt = '%Y-%m-%dT%H:%M:%S.%f-04:00'\n",
    "\n",
    "i = 0\n",
    "incr = 100\n",
    "while i < len(df_10Q):\n",
    "    symbols = df_10Q['ticker'].iloc[i:i+incr]\n",
    "    i += incr\n",
    "    barset = alpaca.get_barset(symbols=symbols, timeframe='day', start=start.strftime(alpaca_time_fmt), end=end.strftime(alpaca_time_fmt))\n",
    "    \n",
    "    for ticker, bars in barset.items():\n",
    "        if ticker not in assets:\n",
    "            continue\n",
    "\n",
    "        filtered_bars = list(filter(lambda bar: bar.t.date() >= start.date(), bars))\n",
    "        if len(filtered_bars) == 0:\n",
    "            continue\n",
    "\n",
    "        timestamps = [bar.t.date() for bar in filtered_bars]\n",
    "        \n",
    "        closing_prices = [bar.c for bar in filtered_bars]\n",
    "        # - Earnings date\n",
    "        earnings_date = df_10Q.loc[df_10Q['ticker'] == ticker]['date'].iloc[0].date()\n",
    "        try:\n",
    "            price_before_earnings = closing_prices[timestamps.index(earnings_date)-1]\n",
    "            price_on_earnings = closing_prices[timestamps.index(earnings_date)]\n",
    "            price_after_earnings = closing_prices[timestamps.index(earnings_date)+1]\n",
    "            change = (price_after_earnings - price_before_earnings) / price_before_earnings\n",
    "            price_change_dict[ticker] = change\n",
    "            date_dict[ticker] = earnings_date\n",
    "\n",
    "        except ValueError:\n",
    "            try:\n",
    "                t_date = earnings_date + timedelta(days=1)\n",
    "                price_before_earnings = closing_prices[timestamps.index(t_date)-1]\n",
    "                price_on_earnings = closing_prices[timestamps.index(t_date)]\n",
    "                price_after_earnings = closing_prices[timestamps.index(t_date)+1]\n",
    "                change = (price_after_earnings - price_before_earnings) / price_before_earnings\n",
    "                price_change_dict[ticker] = change\n",
    "                date_dict[ticker] = earnings_date\n",
    "            except ValueError:\n",
    "                try:\n",
    "                    t_date = earnings_date - timedelta(days=1)\n",
    "                    price_before_earnings = closing_prices[timestamps.index(t_date)-1]\n",
    "                    price_on_earnings = closing_prices[timestamps.index(t_date)]\n",
    "                    price_after_earnings = closing_prices[timestamps.index(t_date)+1]\n",
    "                    change = (price_after_earnings - price_before_earnings) / price_before_earnings\n",
    "                    price_change_dict[ticker] = change\n",
    "                    date_dict[ticker] = earnings_date\n",
    "                except Exception as e:\n",
    "                    print(e)\n",
    "                    continue\n",
    "\n",
    "price_df = pd.DataFrame(columns=['ticker', 'price_change', 'date'])\n",
    "price_df['ticker'] = price_change_dict.keys()\n",
    "price_df['ticker'] = price_df['ticker'].astype(str)\n",
    "price_df['price_change'] = price_change_dict.values()\n",
    "price_df['date'] = date_dict.values()\n",
    "price_df['date'] = pd.to_datetime(price_df['date'])\n",
    "\n",
    "df_10Q = df_10Q.merge(price_df, how='outer', on=['ticker', 'date'])"
   ]
  },
  {
   "cell_type": "code",
   "execution_count": 150,
   "metadata": {},
   "outputs": [
    {
     "data": {
      "text/plain": [
       "cik                   -0.211027\n",
       "marketcap             -0.027723\n",
       "corona_present         0.034602\n",
       "virus_present         -0.004604\n",
       "covid_present         -0.143093\n",
       "recession_present     -0.049049\n",
       "pandemic_present       0.126336\n",
       "coronavirus_present    0.021487\n",
       "sentiment              1.000000\n",
       "price_change          -0.002922\n",
       "Name: sentiment, dtype: float64"
      ]
     },
     "execution_count": 150,
     "metadata": {},
     "output_type": "execute_result"
    }
   ],
   "source": [
    "recent_df = df_10Q.loc[df_10Q['date'] >= '2020-01-01']\n",
    "recent_df.corr()['sentiment']"
   ]
  },
  {
   "cell_type": "code",
   "execution_count": 151,
   "metadata": {},
   "outputs": [
    {
     "data": {
      "text/plain": [
       "15"
      ]
     },
     "execution_count": 151,
     "metadata": {},
     "output_type": "execute_result"
    }
   ],
   "source": [
    "recent_df['price_change'].count()"
   ]
  },
  {
   "cell_type": "code",
   "execution_count": 153,
   "metadata": {},
   "outputs": [
    {
     "name": "stdout",
     "output_type": "stream",
     "text": [
      "Intercept    0.194562\n",
      "sentiment    0.991755\n",
      "dtype: float64\n"
     ]
    },
    {
     "data": {
      "image/png": "[encoded data removed]",
      "text/plain": [
       "<Figure size 432x288 with 1 Axes>"
      ]
     },
     "metadata": {},
     "output_type": "display_data"
    }
   ],
   "source": [
    "# Check if the relationship between sentiment and price change is significant\n",
    "import statsmodels.formula.api as smf\n",
    "\n",
    "sns.regplot(x='sentiment', y='price_change', data=recent_df).set_title('2020 Filings Model')\n",
    "\n",
    "lm = smf.ols(formula='price_change~sentiment', data=recent_df).fit()\n",
    "print(lm.pvalues)\n",
    "plt.savefig(os.path.join(data_dir, 'imgs', '2020FilingsModel.png'))"
   ]
  },
  {
   "cell_type": "markdown",
   "metadata": {},
   "source": [
    "### Read"
   ]
  },
  {
   "cell_type": "code",
   "execution_count": 162,
   "metadata": {},
   "outputs": [
    {
     "name": "stdout",
     "output_type": "stream",
     "text": [
      "Company: BECTON DICKINSON & CO 2020-02-06 00:00:00\n",
      "natural disasters (including pandemics), war, terrorism, labor disruptions and international conflicts that could cause significant economic disruption and political and social instability, resulting in decreased demand for our products, adversely affect our manufacturing and distribution capabilities, or cause interruptions in our supply chain.\n",
      "\n",
      "\n",
      "recently, a strain of coronavirus was reported in china and the virus has begun to spread to other countries.  \n",
      "\n",
      "\n",
      "\n",
      "Company: Woodward, Inc. 2020-02-10 00:00:00\n",
      "our operations and suppliers be subject to physical and other risks, including natural disasters, epidemics, pandemics, and other catastrophic events beyond our control, which could disrupt production and have a material adverse effect on our business, financial condition, results of operations and cash flows.\n",
      "\n",
      "\n",
      "\n",
      "public health concerns, including epidemics or pandemics, such as the coronavirus, or natural disasters, war, political unrest, terrorist activity, equipment failures, power outages, or other unforeseen events could result in physical damage to, and complete or partial closure of, or more of our manufacturing facilities, or could cause temporary or long-term disruption in the supply of component products from some local and international suppliers, disruption in the transport of our products and significant delays in the shipment of products and the provision of services, or negatively affect customer demand, which could in turn cause the loss of sales and customers, or could otherwise result in significant damages, threats, interruptions, or delays to our business and initiatives.  \n",
      "\n",
      "\n",
      "public health concerns, including epidemics or pandemics, such as the coronavirus, or natural disasters, war, political unrest, terrorist activity, equipment failures, power outages, or other unforeseen events could result in physical damage to, and complete or partial closure of, or more of our manufacturing facilities, or could cause temporary or long-term disruption in the supply of component products from some local and international suppliers, disruption in the transport of our products and significant delays in the shipment of products and the provision of services, or negatively affect customer demand, which could in turn cause the loss of sales and customers, or could otherwise result in significant damages, threats, interruptions, or delays to our business and initiatives.  \n",
      "\n",
      "\n",
      "\n",
      "Company: CALAVO GROWERS INC 2020-03-10 00:00:00\n",
      "our business could be adversely affected by an outbreak of disease, epidemic or pandemic, or similar public threat, or fear of such an event.\n",
      "\n",
      "\n",
      "\n",
      "the spreading of a novel strain of coronavirus (\"covid-19\"), that is impacting global economic activity, could lead to regional quarantines, labor shortages, changes in consumer purchasing patterns, disruptions to supply chains, including our ability to obtain products from our suppliers, and overall economic instability.\n",
      "\n",
      "\n",
      "while we do not expect that the virus will have a material adverse effect on our business or financial results at this time, we are unable to accurately predict the impact that the coronavirus will have due to various uncertainties, including the ultimate geographic spread of the virus, the severity of the disease, the duration of the outbreak, and actions that be taken by governmental authorities.\n",
      "\n",
      "\n",
      "\n",
      "\n",
      "Company: Magyar Bancorp, Inc. 2020-02-13 00:00:00\n",
      "in addition, the risk of future other-than-temporary impairment be influenced by prolonged recession in the u.s. economy, changes in real estate values and interest deferrals.\n",
      "\n",
      "\n",
      "\n",
      "\n",
      "Company: Toll Brothers, Inc. 2020-03-10 00:00:00\n",
      "while we currently see a supportive economy and solid economic fundamentals underlying the housing market, strong household formations, low interest rates and a limited supply of homes across most of our markets, we expect that overall economic conditions in the united states will be impacted by the emerging threat posed by the coronavirus disease (\"covid-19\"), although the breadth and duration of any such impact is unknown.\n",
      "\n",
      "\n",
      "\n",
      "in a novel strain of coronavirus (\"covid-19\") surfaced in wuhan, china.\n",
      "\n",
      "\n",
      "\n",
      "Company: AGILENT TECHNOLOGIES, INC. 2020-03-03 00:00:00\n",
      "accordingly, our future results could be harmed by a variety of factors, including:\n",
      "interruption to transportation flows for delivery of parts to us and finished goods to our customers;\n",
      "changes in a specific country's or region's political, economic or other conditions;\n",
      "changes in diplomatic and trade relationships, such as the united kingdom's exit from the european union, including new tariffs, trade protection measures, import or export licensing requirements, new or different customs duties, trade embargoes and sanctions and other trade barriers;\n",
      "tariffs imposed by the u.s. on goods from other countries and tariffs imposed by other countries on u.s. goods, including the tariffs enacted and proposed by the u.s. government on various imports from china and by the chinese government on certain u.s. goods;\n",
      "negative consequences from changes in or differing interpretations of laws and regulations, including those related to tax and import/export;\n",
      "difficulty in staffing and managing widespread operations;\n",
      "differing labor regulations;\n",
      "differing protection of intellectual property;\n",
      "unexpected changes in regulatory requirements;\n",
      "geopolitical uncertainty or turmoil, terrorism and war; and\n",
      "impact of public health crises, including pandemics and epidemics, such as covid-19 on the global economy.\n",
      "\n",
      "\n",
      "\n",
      "\n",
      "Company: ORACLE CORP 2020-03-13 00:00:00\n",
      "these include, among other things, statements regarding:\n",
      "our expectations regarding the potential impacts on our business of the outbreak of the novel coronavirus covid-19;\n",
      "our expectation that we acquire companies, products, services and technologies to further our corporate strategy as compelling opportunities become available;\n",
      "our expectation that, on a constant currency basis, our total cloud and license revenues generally will continue to increase due to expected growth in our cloud services and our license support offerings, and continued demand for our cloud license and on-premise license offerings;\n",
      "our belief that our oracle cloud software-as-a-service and infrastructure-as-a-service (saas and iaas, respectively, and collectively, oracle cloud services) offerings are opportunities for us to expand our cloud and license business, and that demand for our oracle cloud services will continue to increase;\n",
      "our expectation that substantially all of our customers will renew their license support contracts\n",
      "our expectation that our hardware business will have lower operating margins as a percentage of revenues than our cloud and license business;\n",
      "our expectation that we will continue to place significant emphasis, both domestically and internationally, on direct sales through our own sales force;\n",
      "our expectation that we will continue to make significant investments in research and development, and our belief that research and development efforts are essential to maintaining our competitive position;\n",
      "our expectation that our international operations will continue to provide a significant portion of our total revenues and expenses;\n",
      "the sufficiency of our sources of funding for working capital, capital expenditures, contractual obligations, acquisitions, dividends, stock repurchases, debt repayments and other matters;\n",
      "our belief that we have adequately provided under u.s. generally accepted accounting principles for outcomes related to our tax audits and that the final outcome of our tax related examinations, agreements or judicial proceedings will not have a material effect on our results of operations, and our belief that our net deferred tax assets will be realized in the foreseeable future;\n",
      "\n",
      "our belief that the outcome of certain legal proceedings and claims to which we are a party will not, individually or in the aggregate, result in losses that are materially in excess of amounts already recognized, if any;\n",
      "the possibility that certain legal proceedings to which we are a party could have a material impact on our future cash flows and results of operations;\n",
      "our expectations regarding the timing and amount of expenses relating to the fiscal oracle restructuring plan and the improved efficiencies in our operations that such a plan will create;\n",
      "the timing and amount of future cash dividend payments and stock repurchases, including our expectation that the levels of our future stock repurchase activity be modified in comparison to past periods in order to use available cash for other purposes;\n",
      "our expectations regarding the impact of recent accounting pronouncements on our consolidated financial statements;\n",
      "our expectation that, to the extent customers renew support contracts or cloud saas and iaas contracts from companies that we have acquired\n",
      ", we will recognize revenues for the full contracts' values over the respective renewal periods;\n",
      "our ability to predict hardware revenues;\n",
      "the percentage of remaining performance obligations that we expect to recognize as revenues over the next months;\n",
      "as well as other statements regarding our future operations, financial condition and prospects, and business strategies.\n",
      "\n",
      "\n",
      "the impacts of the global emergence of coronavirus disease (covid-19) on our business are currently unknown.  \n",
      "\n",
      "\n",
      "\n",
      "Company: AeroVironment Inc 2020-03-04 00:00:00\n",
      "if the current strain of coronavirus outbreak, known as covid-19, continues and results in a prolonged period of commercial and/or governmental restrictions, this impact our ability to obtain certain raw materials and certain components used in the manufacture of our products.\n",
      "\n",
      "\n",
      "\n",
      "the covid-19 novel coronavirus outbreak adversely impact our business.\n",
      "\n",
      "\n",
      "\n",
      "if the current outbreak of the strain of coronavirus known as covid-19 continues and results in a prolonged period of travel and other similar logistics restrictions, this reduce our and our customers' capabilities to travel, domestically and internationally, which impact our ability to perform certain contracts, develop and renew contracts, or\n",
      "commercially market our products, or could otherwise disrupt portions of our business.\n",
      "\n",
      "\n",
      "\n",
      "Company: CROWN CRAFTS INC 2020-02-12 00:00:00\n",
      "the company has been monitoring the global effects of an outbreak of respiratory illness caused by ncov,\" a coronavirus that was detected in early in the city of wuhan, hubei province, china.\n",
      "\n",
      "\n",
      "\n",
      "Company: KLA CORP 2020-02-05 00:00:00\n",
      "operations at our manufacturing facilities and our assembly subcontractors, as well as our other operations and those of our customers, are subject to disruption for a variety of reasons, including work stoppages, acts of war, terrorism, health epidemics (including the recent coronavirus outbreak in china), fire, earthquake, volcanic eruptions, energy shortages, flooding or other natural disasters.\n",
      "\n",
      "\n",
      "\n",
      "Company: REGIS CORP 2020-02-04 00:00:00\n",
      "financial performance falls short of projections due to internal operating factors,\n",
      "economic recession,\n",
      "reduced salon traffic,\n",
      "deterioration of industry trends,\n",
      "increased competition,\n",
      "inability to reduce general and administrative expenses as company-owned salon count potentially decreases, and\n",
      "\n",
      "other factors causing cash flow to deteriorate.\n",
      "\n",
      "\n",
      "\n",
      "\n",
      "Company: Ubiquiti Inc. 2020-02-07 00:00:00\n",
      "the complexities of foreign tax systems and changes in their tax rates and rules;\n",
      "*stringent consumer protection and product compliance regulations that are costly to comply with and vary from country to country;\n",
      "*limited protection and enforcement regimes for intellectual property rights in some countries;\n",
      "*business disruptions created by health crises and outbreaks of communicable diseases, especially in china, including the recent outbreak of the virus known as the coronavirus;\n",
      "*increased financial accounting and reporting burdens and complexity; and\n",
      "*political, social and economic instability in some jurisdictions.\n",
      "\n",
      "\n",
      "\n",
      "for example, in the last decade, china has suffered health crises related to the outbreak of avian influenza, severe acute respiratory syndrome and the novel coronavirus.\n",
      "\n",
      "\n",
      "\n",
      "Company: STANDEX INTERNATIONAL CORP/DE/ 2020-02-04 00:00:00\n",
      "materially adverse or unanticipated legal judgments, fines, penalties or settlements; conditions in the financial and banking markets, including fluctuations in exchange rates and the inability to repatriate foreign cash; domestic and international economic conditions, including the impact, length and degree of economic downturns on the customers and markets we serve and more specifically conditions in the food service equipment, automotive, construction, aerospace, energy, oil and gas, transportation, consumer appliance and general industrial markets; lower-cost competition; the relative mix of products which impact margins and operating efficiencies in certain of our businesses; the impact of higher raw material and component costs, particularly steel, petroleum based products, refrigeration components and certain materials used in electronics parts; an inability to realize the expected cost savings from restructuring activities including effective completion of plant consolidations, cost reduction efforts including procurement savings and productivity enhancements, capital management improvements, strategic capital expenditures, and the implementation of lean enterprise manufacturing techniques; the potential for losses associated with the exit from or divestiture of businesses that are no longer strategic or no longer meet our growth and return expectations; the inability to achieve the savings expected from global sourcing of raw materials and diversification efforts in emerging markets; the impact on cost structure and on economic conditions as a result of actual and threatened increases in trade tariffs; the impact of the current coronavirus on our china supply chain as well as the demand for our products and services in china; the inability to attain expected benefits from acquisitions and the inability to effectively consummate and integrate such acquisitions and achieve synergies envisioned by the company; market acceptance of our products; our ability to design, introduce and sell new products and related product components; the ability to redesign certain of our products to continue meeting evolving regulatory requirements; the impact of delays initiated by our customers; and our ability to increase manufacturing production to meet demand; and potential changes to future pension funding requirements.\n",
      "\n",
      "\n",
      "\n",
      "Company: CREE, INC. 2020-01-30 00:00:00\n",
      "the impact of public health epidemics on employees and the global economy, such as the coronavirus currently impacting china;\n",
      "\n",
      "\n",
      "\n",
      "a disruption or failure of our systems or operations in the event of a natural disaster, health pandemic, such as an influenza outbreak within our workforce, or man-made catastrophic event could cause delays in completing sales, continuing production or performing other critical functions of our business, particularly if a catastrophic event occurred at our primary manufacturing locations or our subcontractors' locations.\n",
      "\n",
      "\n",
      "\n",
      "Company: TAPESTRY, INC. 2020-02-06 00:00:00\n",
      "the impact of the coronavirus outbreak on our financial results; and (xiii)\n",
      "\n",
      "\n",
      "subsequent event\n",
      "\n",
      "in a novel strain of coronavirus was reported to have surfaced in wuhan, china.\n",
      "\n",
      "\n",
      "in a novel strain of coronavirus was reported to have surfaced in wuhan, china.\n",
      "\n",
      "\n",
      "our business could be adversely affected by the recent coronavirus outbreak.\n",
      "\n",
      "\n",
      "\n",
      "in a novel strain of coronavirus was reported to have surfaced in wuhan, china.\n",
      "\n",
      "\n",
      "the extent to which the coronavirus impacts our results will depend on future developments, which are highly uncertain and cannot be predicted, including new information which emerge concerning the severity of the coronavirus, the potential spread to other regions and the actions to contain the coronavirus or treat its impact, among others.\n",
      "\n",
      "\n",
      "\n",
      "the extent to which the coronavirus impacts our results will depend on future developments, which are highly uncertain and cannot be predicted, including new information which emerge concerning the severity of the coronavirus, the potential spread to other regions and the actions to contain the coronavirus or treat its impact, among others.\n",
      "\n",
      "\n",
      "\n",
      "the extent to which the coronavirus impacts our results will depend on future developments, which are highly uncertain and cannot be predicted, including new information which emerge concerning the severity of the coronavirus, the potential spread to other regions and the actions to contain the coronavirus or treat its impact, among others.\n",
      "\n",
      "\n",
      "\n",
      "\n",
      "Company: NANOVIRICIDES, INC. 2020-02-14 00:00:00\n",
      "the novel coronavirus pneumonia (\"ncp\")\n",
      "epidemic\n",
      "\n",
      "\n",
      "\n",
      "subsequent to the reporting period, on the company confirmed in a press release that it has undertaken an effort to develop a treatment for the novel 2019-ncov coronavirus outbreak that appears to have started around in wuhan, china.\n",
      "\n",
      "\n",
      "it is a reasonable expectation that these relatively broad-spectrum ligands would also be able to bind the s1 spike protein of the ncp coronavirus in the same fashion.\n",
      "\n",
      "\n",
      "previously in when the company initiated work on the mers coronavirus, and after initial drug candidates were synthesized, they did not get tested against the virus.\n",
      "\n",
      "\n",
      "an unapproved exploratory drug, namely, remdesivir, (gilead, ca), in the class of nucleotide analog prodrugs, has entered into exploratory clinical studies for the novel coronavirus in china already.\n",
      "\n",
      "\n",
      ", professor in the department of microbiology and immunology at stanford university, suggests that coronavirus epidemic could be contained in months and that global pandemic is unlikely (https://apple.news/avf6yey6sq76v-f9kgcufkg).\n",
      "\n",
      "\n",
      ", professor in the department of microbiology and immunology at stanford university, suggests that coronavirus epidemic could be contained in months and that global pandemic is unlikely (https://apple.news/avf6yey6sq76v-f9kgcufkg).\n",
      "\n",
      "\n",
      "dr. siegel suggests that a possible scenario is that this coronavirus will be contained, and be gone, or that it will continue to reemerge frequently afterwards, as is seen with mers (middle east respiratory syndrome) coronavirus, or with ebola.\n",
      "\n",
      "\n",
      "dr. siegel suggests that a possible scenario is that this coronavirus will be contained, and be gone, or that it will continue to reemerge frequently afterwards, as is seen with mers (middle east respiratory syndrome) coronavirus, or with ebola.\n",
      "\n",
      "\n",
      "the epidemic and pandemic potential as well as the constantly changing nature of influenza viruses is well known.\n",
      "\n",
      "\n",
      "\n",
      "Company: VALUE LINE INC 2020-03-12 00:00:00\n",
      "fluctuations in eam's and party copyright assets under management due to broadly based changes in the values of equity and debt securities, redemptions by investors and other factors;\n",
      "possible changes in the valuation of eam's intangible assets from time to time;\n",
      "generating future revenues or collection of receivables from significant customers;\n",
      "dependence on key personnel;\n",
      "competition in the fields of publishing, copyright and investment management, along with associated effects on the level and structure of prices and fees, and the mix of services delivered;\n",
      "the impact of government regulation on the company's and eam's businesses;\n",
      "availability of free or low cost investment data through discount brokers or generally over the internet;\n",
      "terrorist attacks, cyber attacks and natural disasters;\n",
      "the outbreaks of novel coronavirus beginning in the u.s. in early which affect market and economic conditions, along with unknown impacts on employees, customers, and aspects of operations;\n",
      "\n",
      "\n",
      "the reason is the alarming spread of the coronavirus, a disease that began in china in late and has spread to scores of nations, afflicted tens of thousands of individuals, and cost the lives of several victims.\n",
      "\n",
      "\n",
      "\n",
      ", we should be able to avoid a recession this\n",
      "\n",
      "\n",
      "\n"
     ]
    }
   ],
   "source": [
    "import spacy\n",
    "from spacy.matcher import Matcher\n",
    "\n",
    "nlp = spacy.load('en_core_web_sm')\n",
    "\n",
    "matcher = Matcher(nlp.vocab)\n",
    "\n",
    "terms = ['coronavirus', 'covid', 'recession', 'pandemic']\n",
    "pattern = [[{'LEMMA': term.lower()}] for term in terms]\n",
    "matcher.add('Terms', pattern)\n",
    "\n",
    "recent_df = df_10Q.loc[df_10Q['date'] >= '2020-01-01']\n",
    "for i, row in recent_df.iterrows():    \n",
    "    doc = nlp(row['diff'])\n",
    "    matches = matcher(doc)\n",
    "    \n",
    "    if matches:\n",
    "        print('Company:', row['name'], row['date'])\n",
    "        for match_id, start, end in matches:\n",
    "            span = doc[start:end]\n",
    "            sent = span.sent\n",
    "            print(sent.text)\n",
    "            print()\n",
    "        print()"
   ]
  }
 ],
 "metadata": {
  "kernelspec": {
   "display_name": "Python 3",
   "language": "python",
   "name": "python3"
  },
  "language_info": {
   "codemirror_mode": {
    "name": "ipython",
    "version": 3
   },
   "file_extension": ".py",
   "mimetype": "text/x-python",
   "name": "python",
   "nbconvert_exporter": "python",
   "pygments_lexer": "ipython3",
   "version": "3.6.9"
  }
 },
 "nbformat": 4,
 "nbformat_minor": 4
}
